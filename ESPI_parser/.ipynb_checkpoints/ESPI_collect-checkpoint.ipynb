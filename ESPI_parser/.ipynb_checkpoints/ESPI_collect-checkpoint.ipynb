{
 "cells": [
  {
   "cell_type": "markdown",
   "metadata": {},
   "source": [
    "## ESPI collect\n",
    "\n",
    "This module will collect **ESPI reports** from **GPW website** (Giełda Papierów Wartościowych) and **save to html** files to be later used as input for the data model and predictions.\n",
    "\n",
    "The website used to collect data from is:\n",
    "https://www.gpw.pl/komunikat?geru_id=xxx\n",
    "\n",
    "Where *xxx* are the incremental report numbers.\n",
    "\n",
    "**ESPI collect module can be used to collect individual ESPI reports to make investment predictions**"
   ]
  },
  {
   "cell_type": "code",
   "execution_count": 1,
   "metadata": {},
   "outputs": [],
   "source": [
    "from bs4 import BeautifulSoup\n",
    "from selenium import webdriver\n",
    "from datetime import datetime"
   ]
  },
  {
   "cell_type": "code",
   "execution_count": 2,
   "metadata": {},
   "outputs": [],
   "source": [
    "def parse_url_and_save(soup):\n",
    "    # Take only the relevant \"dane\" class from the website. The section contains the actual ESPI report\n",
    "    contents = soup.find(\"div\", {'class':'dane'})\n",
    "    return contents"
   ]
  },
  {
   "cell_type": "code",
   "execution_count": null,
   "metadata": {},
   "outputs": [],
   "source": [
    "start_time = datetime.now()\n",
    "\n",
    "driver = webdriver.Chrome()\n",
    "driver.set_page_load_timeout(30)\n",
    "\n",
    "start_number=335009 # first number used in the url name\n",
    "end_number=335011 # last number used in the url name\n",
    "\n",
    "for el in range(start_number,end_number,1):\n",
    "    url = 'https://www.gpw.pl/komunikat?geru_id='+str(el)\n",
    "    try:\n",
    "        driver.get(url)\n",
    "        html = driver.page_source\n",
    "        soup = BeautifulSoup(html)\n",
    "        if (parse_url_and_save(soup) is not None) and (len(parse_url_and_save(soup))>100): # some files do not contain any relevant data so do not collect\n",
    "            with open(\"htmls/\"+str(el)+\".html\", \"w\") as file:\n",
    "                file.write(str(parse_url_and_save(soup)))\n",
    "    except:\n",
    "        print(\"Error at number: \"+str(el))\n",
    "\n",
    "driver.close()\n",
    "\n",
    "end_time = datetime.now()\n",
    "print(end_time-start_time)"
   ]
  }
 ],
 "metadata": {
  "kernelspec": {
   "display_name": "Python 3",
   "language": "python",
   "name": "python3"
  },
  "language_info": {
   "codemirror_mode": {
    "name": "ipython",
    "version": 3
   },
   "file_extension": ".py",
   "mimetype": "text/x-python",
   "name": "python",
   "nbconvert_exporter": "python",
   "pygments_lexer": "ipython3",
   "version": "3.6.9"
  }
 },
 "nbformat": 4,
 "nbformat_minor": 2
}
