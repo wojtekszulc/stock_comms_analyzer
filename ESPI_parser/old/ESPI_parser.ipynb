{
 "cells": [
  {
   "cell_type": "code",
   "execution_count": 1,
   "metadata": {},
   "outputs": [],
   "source": [
    "from bs4 import BeautifulSoup\n",
    "from selenium import webdriver\n",
    "import pandas as pd\n",
    "import numpy as np\n",
    "from IPython.display import HTML, display\n",
    "import re\n",
    "from selenium.webdriver.common.keys import Keys\n",
    "from datetime import datetime\n",
    "import os"
   ]
  },
  {
   "cell_type": "code",
   "execution_count": 2,
   "metadata": {},
   "outputs": [],
   "source": [
    "start_time = (datetime.now())"
   ]
  },
  {
   "cell_type": "code",
   "execution_count": 3,
   "metadata": {},
   "outputs": [],
   "source": [
    "def parse_url(soup):\n",
    "    contents = soup.find(\"div\", {'class':'dane'})\n",
    "    section_index = contents.find_all(\"table\", {'class':'nDokument'})[0] # spis treści\n",
    "    section_footer = contents.find_all(\"table\", {'class':'nDokument'})[1] # stopka - informacje o firmie\n",
    "    link_raport = section_index.find(\"a\")['href']\n",
    "    link_raport = link_raport[link_raport.find('#')+1:]\n",
    "    start = contents.find('a',{'name':link_raport})\n",
    "    content_table = start.parent.next_sibling.next_sibling\n",
    "    contents_nTekst = content_table.find_all(\"tr\", {'class':'nTekst'})\n",
    "    total = [(el.text) for el in contents_nTekst]\n",
    "    return ''.join(total)"
   ]
  },
  {
   "cell_type": "code",
   "execution_count": 4,
   "metadata": {},
   "outputs": [],
   "source": [
    "def parse_url_and_save(soup):\n",
    "    contents = soup.find(\"div\", {'class':'dane'})\n",
    "    return contents"
   ]
  },
  {
   "cell_type": "code",
   "execution_count": 5,
   "metadata": {},
   "outputs": [
    {
     "name": "stdout",
     "output_type": "stream",
     "text": [
      "11383\n",
      "11383\n",
      "846\n",
      "0.07432135640867961\n"
     ]
    }
   ],
   "source": [
    "path = './ESPI_htmls_zip/ESPI_htmls/'\n",
    "\n",
    "files = []\n",
    "# r=root, d=directories, f = files\n",
    "for r, d, f in os.walk(path):\n",
    "    for file in f:\n",
    "        if '.html' in file:\n",
    "            files.append(os.path.join(r, file))\n",
    "files.sort()\n",
    "\n",
    "print(len(files))\n",
    "\n",
    "espi_info=[]\n",
    "espi_bledy=[]\n",
    "korupc=0\n",
    "bledy=0\n",
    "#espi = []\n",
    "#espi.append(files[0])\n",
    "#for f in files:\n",
    "#files = files[0:1000]\n",
    "for f in files:\n",
    "    url = str(f)\n",
    "    #print(url)\n",
    "    try:\n",
    "        soup = BeautifulSoup(open(f), \"html.parser\")\n",
    "        soup_text = parse_url(soup).lower()\n",
    "        espi_info.append(soup_text)\n",
    "        if soup_text.find(\"getback\")>0:\n",
    "            #print(soup_text[soup_text.find(\"getback\")-50:soup_text.find(\"getback\")+200])\n",
    "            korupc+=1\n",
    "    except:\n",
    "        #print(\"Błąd przy numerze: \"+str(f))\n",
    "        espi_bledy.append(f)\n",
    "        bledy+=1\n",
    "\n",
    "\n",
    "print(len(files))\n",
    "print(bledy)\n",
    "print(bledy/len(files))\n",
    "#print(espi_bledy)\n",
    "#print(korupc)"
   ]
  },
  {
   "cell_type": "code",
   "execution_count": 6,
   "metadata": {},
   "outputs": [],
   "source": [
    "end_time = (datetime.now())"
   ]
  },
  {
   "cell_type": "code",
   "execution_count": 7,
   "metadata": {},
   "outputs": [
    {
     "name": "stdout",
     "output_type": "stream",
     "text": [
      "0:04:59.541440\n"
     ]
    }
   ],
   "source": [
    "diff_time = print(end_time-start_time)"
   ]
  },
  {
   "cell_type": "code",
   "execution_count": null,
   "metadata": {},
   "outputs": [],
   "source": []
  }
 ],
 "metadata": {
  "kernelspec": {
   "display_name": "Python 3",
   "language": "python",
   "name": "python3"
  },
  "language_info": {
   "codemirror_mode": {
    "name": "ipython",
    "version": 3
   },
   "file_extension": ".py",
   "mimetype": "text/x-python",
   "name": "python",
   "nbconvert_exporter": "python",
   "pygments_lexer": "ipython3",
   "version": "3.6.9"
  }
 },
 "nbformat": 4,
 "nbformat_minor": 2
}
