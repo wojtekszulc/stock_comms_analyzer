{
 "cells": [
  {
   "cell_type": "code",
   "execution_count": 1,
   "metadata": {},
   "outputs": [],
   "source": [
    "from bs4 import BeautifulSoup\n",
    "from selenium import webdriver\n",
    "import pandas as pd\n",
    "import numpy as np\n",
    "from IPython.display import HTML, display\n",
    "import re\n",
    "from selenium.webdriver.common.keys import Keys\n",
    "from datetime import datetime\n",
    "import os"
   ]
  },
  {
   "cell_type": "code",
   "execution_count": 2,
   "metadata": {},
   "outputs": [],
   "source": [
    "start_time = (datetime.now())"
   ]
  },
  {
   "cell_type": "code",
   "execution_count": 3,
   "metadata": {},
   "outputs": [],
   "source": [
    "def parse_url(soup):\n",
    "    contents = soup.find(\"div\", {'class':'dane'})\n",
    "    section_index = contents.find_all(\"table\", {'class':'nDokument'})[0] # spis treści\n",
    "    section_footer = contents.find_all(\"table\", {'class':'nDokument'})[1] # stopka - informacje o firmie\n",
    "    link_raport = section_index.find(\"a\")['href']\n",
    "    link_raport = link_raport[link_raport.find('#')+1:]\n",
    "    start = contents.find('a',{'name':link_raport})\n",
    "    content_table = start.parent.next_sibling.next_sibling\n",
    "    contents_nTekst = content_table.find_all(\"tr\", {'class':'nTekst'})\n",
    "    total = [(el.text) for el in contents_nTekst]\n",
    "    return ''.join(total)"
   ]
  },
  {
   "cell_type": "code",
   "execution_count": 4,
   "metadata": {},
   "outputs": [],
   "source": [
    "def parse_url_and_save(soup):\n",
    "    contents = soup.find(\"div\", {'class':'dane'})\n",
    "    return contents"
   ]
  },
  {
   "cell_type": "code",
   "execution_count": 5,
   "metadata": {},
   "outputs": [
    {
     "name": "stdout",
     "output_type": "stream",
     "text": [
      "1000\n",
      "8\n",
      "0.008\n",
      "0\n"
     ]
    }
   ],
   "source": [
    "path = './ESPI_htmls_zip/ESPI_htmls'\n",
    "files = []\n",
    "# r=root, d=directories, f = files\n",
    "for r, d, f in os.walk(path):\n",
    "    for file in f:\n",
    "        if '.html' in file:\n",
    "            files.append(os.path.join(r, file))\n",
    "files.sort()\n",
    "\n",
    "espi_info=[]\n",
    "espi_bledy=[]\n",
    "korupc=0\n",
    "bledy=0\n",
    "#espi = []\n",
    "#espi.append(files[0])\n",
    "#for f in files:\n",
    "files = files[0:1000]\n",
    "for f in files:\n",
    "    url = str(f)\n",
    "    #print(url)\n",
    "    try:\n",
    "        soup = BeautifulSoup(open(f), \"html.parser\")\n",
    "        soup_text = parse_url(soup).lower()\n",
    "        espi_info.append(soup_text)\n",
    "#        if soup_text.find(\"getback\")>0:\n",
    "#            print(soup_text[soup_text.find(\"getback\")-50:soup_text.find(\"getback\")+200])\n",
    "#            korupc+=1\n",
    "    except:\n",
    "        #print(\"Błąd przy numerze: \"+str(f))\n",
    "        espi_bledy.append(f)\n",
    "        bledy+=1\n",
    "    if len(espi_info)==1000:\n",
    "        break\n",
    "\n",
    "print(len(files))\n",
    "print(bledy)\n",
    "print(bledy/len(files))\n",
    "#print(espi_bledy)\n",
    "print(korupc)"
   ]
  },
  {
   "cell_type": "code",
   "execution_count": 6,
   "metadata": {},
   "outputs": [],
   "source": [
    "end_time = (datetime.now())"
   ]
  },
  {
   "cell_type": "code",
   "execution_count": 7,
   "metadata": {},
   "outputs": [
    {
     "name": "stdout",
     "output_type": "stream",
     "text": [
      "0:01:03.671471\n"
     ]
    }
   ],
   "source": [
    "diff_time = print(end_time-start_time)"
   ]
  },
  {
   "cell_type": "code",
   "execution_count": 8,
   "metadata": {},
   "outputs": [
    {
     "data": {
      "text/plain": [
       "992"
      ]
     },
     "execution_count": 8,
     "metadata": {},
     "output_type": "execute_result"
    }
   ],
   "source": [
    "len(espi_info)"
   ]
  },
  {
   "cell_type": "code",
   "execution_count": 9,
   "metadata": {},
   "outputs": [
    {
     "name": "stdout",
     "output_type": "stream",
     "text": [
      "8\n"
     ]
    }
   ],
   "source": [
    "print(bledy)"
   ]
  },
  {
   "cell_type": "code",
   "execution_count": 10,
   "metadata": {},
   "outputs": [],
   "source": [
    "df = pd.DataFrame(espi_info, columns=[\"tekst\"])"
   ]
  },
  {
   "cell_type": "code",
   "execution_count": 11,
   "metadata": {},
   "outputs": [
    {
     "data": {
      "text/html": [
       "<div>\n",
       "<style scoped>\n",
       "    .dataframe tbody tr th:only-of-type {\n",
       "        vertical-align: middle;\n",
       "    }\n",
       "\n",
       "    .dataframe tbody tr th {\n",
       "        vertical-align: top;\n",
       "    }\n",
       "\n",
       "    .dataframe thead th {\n",
       "        text-align: right;\n",
       "    }\n",
       "</style>\n",
       "<table border=\"1\" class=\"dataframe\">\n",
       "  <thead>\n",
       "    <tr style=\"text-align: right;\">\n",
       "      <th></th>\n",
       "      <th>tekst</th>\n",
       "    </tr>\n",
       "  </thead>\n",
       "  <tbody>\n",
       "    <tr>\n",
       "      <th>0</th>\n",
       "      <td>\\n \\n komisja nadzoru finansowego\\n \\n\\n \\n\\n\\...</td>\n",
       "    </tr>\n",
       "    <tr>\n",
       "      <th>1</th>\n",
       "      <td>\\n \\n komisja nadzoru finansowego\\n \\n\\n \\n\\n\\...</td>\n",
       "    </tr>\n",
       "    <tr>\n",
       "      <th>2</th>\n",
       "      <td>\\n \\n komisja nadzoru finansowego\\n \\n\\n \\n\\n\\...</td>\n",
       "    </tr>\n",
       "    <tr>\n",
       "      <th>3</th>\n",
       "      <td>\\n \\n komisja nadzoru finansowego\\n \\n\\n \\n\\n\\...</td>\n",
       "    </tr>\n",
       "    <tr>\n",
       "      <th>4</th>\n",
       "      <td>\\n \\n komisja nadzoru finansowego\\n \\n\\n \\n\\n\\...</td>\n",
       "    </tr>\n",
       "  </tbody>\n",
       "</table>\n",
       "</div>"
      ],
      "text/plain": [
       "                                               tekst\n",
       "0  \\n \\n komisja nadzoru finansowego\\n \\n\\n \\n\\n\\...\n",
       "1  \\n \\n komisja nadzoru finansowego\\n \\n\\n \\n\\n\\...\n",
       "2  \\n \\n komisja nadzoru finansowego\\n \\n\\n \\n\\n\\...\n",
       "3  \\n \\n komisja nadzoru finansowego\\n \\n\\n \\n\\n\\...\n",
       "4  \\n \\n komisja nadzoru finansowego\\n \\n\\n \\n\\n\\..."
      ]
     },
     "execution_count": 11,
     "metadata": {},
     "output_type": "execute_result"
    }
   ],
   "source": [
    "df.head()"
   ]
  },
  {
   "cell_type": "code",
   "execution_count": 12,
   "metadata": {},
   "outputs": [
    {
     "data": {
      "text/plain": [
       "'\\n \\n komisja nadzoru finansowego\\n \\n\\n \\n\\n\\n \\n \\n raport bieżący nr\\n 13\\n /\\n 2019\\n \\n \\n \\n\\n \\n data sporządzenia:\\n 2019-05-24\\n \\n \\n \\n \\n \\n \\n \\n \\n\\n \\n skrócona nazwa emitenta\\n \\n \\n \\n \\n \\n \\n \\n\\n \\n satis group sa\\n \\n\\n \\n temat\\n \\n \\n \\n \\n \\n \\n \\n \\n \\n \\n\\n \\n żądanie uzupełnienia porządku obrad zwyczajnego walnego zgromadzenia akcjonariuszy\\n \\n\\n \\n podstawa prawna\\n \\n \\n \\n \\n \\n \\n \\n\\n \\n art. 56 ust. 1 pkt 2 ustawy o ofercie - informacje bieżące i okresowe\\n \\n\\n \\n treść raportu:\\n \\n \\n \\n \\n \\n \\n \\n \\n \\n\\n \\n w nawiązaniu do raportu bieżącego nr 11/2019 satis group s.a. z siedzibą w warszawie\\n                           _\"emitent\"_ informuje o otrzymanym od pana nikodema wierzbickiego przedstawiającego\\n                           się jako przedstawiciel porozumienia akcjonariuszy, które reprezentuje łącznie co\\n                           najmniej jedną dwudziestą kapitału zakładowego emitenta, żądaniu uzupełnienia porządku\\n                           obrad zwyczajnego walnego zgromadzenia emitenta _zwza_ zwołanego na dzień 13 czerwca\\n                           2019 roku, na godzinę 13:00. podstawą żądania jest art. 401 § 1 kodeksu spółek handlowych.w załączeniu emitent przekazuje żądanie wraz z projektem uchwał dotyczących odwołania\\n                           i powołania członków rady nadzorczej emitenta. \\n                        \\n \\n\\n \\n załączniki\\n \\n \\n \\n \\n \\n \\n \\n \\n \\n \\n\\n \\n plik\\n opis\\n \\n\\n \\n zadanie_uzupelnienia_porzadku_obrad_zwza_13.06.2019.pdf\\n żądanie od akcjonariusza\\n \\n'"
      ]
     },
     "execution_count": 12,
     "metadata": {},
     "output_type": "execute_result"
    }
   ],
   "source": [
    "df.loc[0].tekst"
   ]
  },
  {
   "cell_type": "code",
   "execution_count": 13,
   "metadata": {},
   "outputs": [
    {
     "data": {
      "text/plain": [
       "992"
      ]
     },
     "execution_count": 13,
     "metadata": {},
     "output_type": "execute_result"
    }
   ],
   "source": [
    "df.size"
   ]
  },
  {
   "cell_type": "code",
   "execution_count": 14,
   "metadata": {},
   "outputs": [],
   "source": [
    "import random\n",
    "df[\"y\"]=np.random.choice((0,1),size=len(df))"
   ]
  },
  {
   "cell_type": "code",
   "execution_count": 15,
   "metadata": {},
   "outputs": [
    {
     "data": {
      "text/plain": [
       "(992, 2)"
      ]
     },
     "execution_count": 15,
     "metadata": {},
     "output_type": "execute_result"
    }
   ],
   "source": [
    "df.shape"
   ]
  },
  {
   "cell_type": "code",
   "execution_count": 16,
   "metadata": {},
   "outputs": [
    {
     "data": {
      "text/plain": [
       "0    1\n",
       "1    0\n",
       "2    0\n",
       "3    1\n",
       "4    0\n",
       "Name: y, dtype: int64"
      ]
     },
     "execution_count": 16,
     "metadata": {},
     "output_type": "execute_result"
    }
   ],
   "source": [
    "df.y.head()"
   ]
  },
  {
   "cell_type": "code",
   "execution_count": 17,
   "metadata": {},
   "outputs": [],
   "source": [
    "y = df.y"
   ]
  },
  {
   "cell_type": "code",
   "execution_count": 18,
   "metadata": {},
   "outputs": [
    {
     "data": {
      "text/plain": [
       "0    \\n \\n komisja nadzoru finansowego\\n \\n\\n \\n\\n\\...\n",
       "1    \\n \\n komisja nadzoru finansowego\\n \\n\\n \\n\\n\\...\n",
       "2    \\n \\n komisja nadzoru finansowego\\n \\n\\n \\n\\n\\...\n",
       "3    \\n \\n komisja nadzoru finansowego\\n \\n\\n \\n\\n\\...\n",
       "4    \\n \\n komisja nadzoru finansowego\\n \\n\\n \\n\\n\\...\n",
       "Name: tekst, dtype: object"
      ]
     },
     "execution_count": 18,
     "metadata": {},
     "output_type": "execute_result"
    }
   ],
   "source": [
    "df.tekst.head()"
   ]
  },
  {
   "cell_type": "code",
   "execution_count": null,
   "metadata": {},
   "outputs": [],
   "source": []
  },
  {
   "cell_type": "code",
   "execution_count": 19,
   "metadata": {},
   "outputs": [],
   "source": [
    "import nltk \n",
    "import re\n",
    "\n",
    "from sklearn.feature_extraction.text import CountVectorizer, TfidfVectorizer\n",
    "from sklearn.model_selection import GridSearchCV\n",
    "from sklearn.linear_model import LogisticRegression\n",
    "from sklearn.metrics import accuracy_score, classification_report\n",
    "from sklearn.pipeline import Pipeline"
   ]
  },
  {
   "cell_type": "code",
   "execution_count": 20,
   "metadata": {},
   "outputs": [],
   "source": [
    "df['tokenized_tekst'] = df['tekst'].apply(nltk.word_tokenize) "
   ]
  },
  {
   "cell_type": "code",
   "execution_count": 21,
   "metadata": {},
   "outputs": [
    {
     "data": {
      "text/html": [
       "<div>\n",
       "<style scoped>\n",
       "    .dataframe tbody tr th:only-of-type {\n",
       "        vertical-align: middle;\n",
       "    }\n",
       "\n",
       "    .dataframe tbody tr th {\n",
       "        vertical-align: top;\n",
       "    }\n",
       "\n",
       "    .dataframe thead th {\n",
       "        text-align: right;\n",
       "    }\n",
       "</style>\n",
       "<table border=\"1\" class=\"dataframe\">\n",
       "  <thead>\n",
       "    <tr style=\"text-align: right;\">\n",
       "      <th></th>\n",
       "      <th>tekst</th>\n",
       "      <th>y</th>\n",
       "      <th>tokenized_tekst</th>\n",
       "    </tr>\n",
       "  </thead>\n",
       "  <tbody>\n",
       "    <tr>\n",
       "      <th>0</th>\n",
       "      <td>\\n \\n komisja nadzoru finansowego\\n \\n\\n \\n\\n\\...</td>\n",
       "      <td>1</td>\n",
       "      <td>[komisja, nadzoru, finansowego, raport, bieżąc...</td>\n",
       "    </tr>\n",
       "    <tr>\n",
       "      <th>1</th>\n",
       "      <td>\\n \\n komisja nadzoru finansowego\\n \\n\\n \\n\\n\\...</td>\n",
       "      <td>0</td>\n",
       "      <td>[komisja, nadzoru, finansowego, raport, bieżąc...</td>\n",
       "    </tr>\n",
       "    <tr>\n",
       "      <th>2</th>\n",
       "      <td>\\n \\n komisja nadzoru finansowego\\n \\n\\n \\n\\n\\...</td>\n",
       "      <td>0</td>\n",
       "      <td>[komisja, nadzoru, finansowego, raport, bieżąc...</td>\n",
       "    </tr>\n",
       "    <tr>\n",
       "      <th>3</th>\n",
       "      <td>\\n \\n komisja nadzoru finansowego\\n \\n\\n \\n\\n\\...</td>\n",
       "      <td>1</td>\n",
       "      <td>[komisja, nadzoru, finansowego, raport, bieżąc...</td>\n",
       "    </tr>\n",
       "    <tr>\n",
       "      <th>4</th>\n",
       "      <td>\\n \\n komisja nadzoru finansowego\\n \\n\\n \\n\\n\\...</td>\n",
       "      <td>0</td>\n",
       "      <td>[komisja, nadzoru, finansowego, raport, bieżąc...</td>\n",
       "    </tr>\n",
       "  </tbody>\n",
       "</table>\n",
       "</div>"
      ],
      "text/plain": [
       "                                               tekst  y  \\\n",
       "0  \\n \\n komisja nadzoru finansowego\\n \\n\\n \\n\\n\\...  1   \n",
       "1  \\n \\n komisja nadzoru finansowego\\n \\n\\n \\n\\n\\...  0   \n",
       "2  \\n \\n komisja nadzoru finansowego\\n \\n\\n \\n\\n\\...  0   \n",
       "3  \\n \\n komisja nadzoru finansowego\\n \\n\\n \\n\\n\\...  1   \n",
       "4  \\n \\n komisja nadzoru finansowego\\n \\n\\n \\n\\n\\...  0   \n",
       "\n",
       "                                     tokenized_tekst  \n",
       "0  [komisja, nadzoru, finansowego, raport, bieżąc...  \n",
       "1  [komisja, nadzoru, finansowego, raport, bieżąc...  \n",
       "2  [komisja, nadzoru, finansowego, raport, bieżąc...  \n",
       "3  [komisja, nadzoru, finansowego, raport, bieżąc...  \n",
       "4  [komisja, nadzoru, finansowego, raport, bieżąc...  "
      ]
     },
     "execution_count": 21,
     "metadata": {},
     "output_type": "execute_result"
    }
   ],
   "source": [
    "df.head()"
   ]
  },
  {
   "cell_type": "code",
   "execution_count": 22,
   "metadata": {},
   "outputs": [],
   "source": [
    "from pyMorfologik import Morfologik\n",
    "from pyMorfologik.parsing import ListParser"
   ]
  },
  {
   "cell_type": "code",
   "execution_count": 23,
   "metadata": {},
   "outputs": [
    {
     "data": {
      "text/plain": [
       "[('Ala',\n",
       "  {'Ala': ['subst:sg:nom:f'],\n",
       "   'Al': ['subst:sg:acc:m1+subst:sg:gen:m1'],\n",
       "   'Alo': ['subst:sg:acc:m1+subst:sg:gen:m1']}),\n",
       " ('ma',\n",
       "  {'mieć': ['verb:fin:sg:ter:imperf:refl.nonrefl'],\n",
       "   'mój': ['adj:sg:nom.voc:f:pos']}),\n",
       " ('kota', {'kota': ['subst:sg:nom:f'], 'kot': ['subst:sg:acc:m1']})]"
      ]
     },
     "execution_count": 23,
     "metadata": {},
     "output_type": "execute_result"
    }
   ],
   "source": [
    "parser = ListParser()\n",
    "stemmer = Morfologik()\n",
    "stemmer.stem(['Ala ma kota'], parser)"
   ]
  },
  {
   "cell_type": "code",
   "execution_count": 24,
   "metadata": {},
   "outputs": [
    {
     "data": {
      "text/plain": [
       "[('komisja', {'komisja': ['subst:sg:nom:f']}),\n",
       " ('nadzoru', {'nadzór': ['subst:sg:gen:m3']}),\n",
       " ('finansowego',\n",
       "  {'finansowy': ['adj:sg:acc:m1.m2:pos+adj:sg:gen:m1.m2.m3.n1.n2:pos']}),\n",
       " ('raport', {'raport': ['subst:sg:acc:m3+subst:sg:nom:m3']}),\n",
       " ('bieżący',\n",
       "  {'bieżący': ['adj:pl:nom.voc:m1.p1:pos+adj:sg:acc:m3:pos+adj:sg:nom.voc:m1.m2.m3:pos'],\n",
       "   'bieżeć': ['pact:pl:nom.voc:m1.p1:imperf:aff:nonrefl+pact:sg:acc:m3:imperf:aff:nonrefl+pact:sg:nom.voc:m1.m2.m3:imperf:aff:nonrefl']}),\n",
       " ('nr', {'numer': ['brev:npun']}),\n",
       " ('data', {'data': ['subst:sg:nom:f']}),\n",
       " ('sporządzenia', {'sporządzić': ['ger:sg:gen:n2:perf:aff:refl.nonrefl']}),\n",
       " ('skrócona', {'skrócić': ['ppas:sg:nom.voc:f:perf:aff']}),\n",
       " ('nazwa', {'nazwa': ['subst:sg:nom:f']}),\n",
       " ('emitenta', {'emitent': ['subst:sg:acc:m1+subst:sg:gen:m1']}),\n",
       " ('satis', {}),\n",
       " ('group', {}),\n",
       " ('sa', {}),\n",
       " ('temat', {'temat': ['subst:sg:acc:m3+subst:sg:nom:m3']}),\n",
       " ('żądanie',\n",
       "  {'żądanie': ['subst:sg:acc:n2+subst:sg:nom:n2+subst:sg:voc:n2'],\n",
       "   'żądać': ['ger:sg:nom.acc:n2:imperf:aff:refl.nonrefl']}),\n",
       " ('uzupełnienia',\n",
       "  {'uzupełnienie': ['subst:pl:acc:n2+subst:pl:nom:n2+subst:pl:voc:n2+subst:sg:gen:n2'],\n",
       "   'uzupełnić': ['ger:sg:gen:n2:perf:aff:refl.nonrefl']}),\n",
       " ('porządku',\n",
       "  {'porządek': ['subst:sg:gen:m3+subst:sg:loc:m3+subst:sg:voc:m3']}),\n",
       " ('obrad', {'obrada': ['subst:pl:gen:f'], 'obrady': ['subst:pl:gen:p3']}),\n",
       " ('zwyczajnego',\n",
       "  {'zwyczajny': ['adj:sg:acc:m1.m2:pos+adj:sg:gen:m1.m2.m3.n1.n2:pos']}),\n",
       " ('walnego',\n",
       "  {'walny': ['adj:sg:acc:m1.m2:pos+adj:sg:gen:m1.m2.m3.n1.n2:pos']}),\n",
       " ('zgromadzenia',\n",
       "  {'zgromadzenie': ['subst:pl:acc:n2+subst:pl:nom:n2+subst:pl:voc:n2+subst:sg:gen:n2'],\n",
       "   'zgromadzić': ['ger:sg:gen:n2:perf:aff:refl.nonrefl']}),\n",
       " ('akcjonariuszy', {'akcjonariusz': ['subst:pl:acc:m1+subst:pl:gen:m1']}),\n",
       " ('podstawa', {'podstawa': ['subst:sg:nom:f']}),\n",
       " ('prawna', {'prawny': ['adj:sg:nom.voc:f:pos']}),\n",
       " ('art', {'artykuł': ['brev:pun']}),\n",
       " ('ust', {'usta': ['subst:pl:gen:p2']}),\n",
       " ('pkt', {'punkt': ['brev:npun']}),\n",
       " ('ustawy',\n",
       "  {'ustawa': ['subst:pl:acc:f+subst:pl:nom:f+subst:pl:voc:f+subst:sg:gen:f']}),\n",
       " ('o',\n",
       "  {'o': ['interj+prep:acc+prep:loc'],\n",
       "   'ocean': ['brev:pun'],\n",
       "   'ojciec': ['brev:pun']}),\n",
       " ('ofercie', {'oferta': ['subst:sg:dat:f+subst:sg:loc:f']}),\n",
       " ('informacje',\n",
       "  {'informacja': ['subst:pl:acc:f+subst:pl:nom:f+subst:pl:voc:f']}),\n",
       " ('bieżące',\n",
       "  {'bieżący': ['adj:pl:acc:m2.m3.f.n1.n2.p2.p3:pos+adj:pl:nom.voc:m2.m3.f.n1.n2.p2.p3:pos+adj:sg:acc:n1.n2:pos+adj:sg:nom.voc:n1.n2:pos'],\n",
       "   'bieżeć': ['pact:pl:nom.acc.voc:m2.m3.f.n1.n2.p2.p3:imperf:aff:nonrefl+pact:sg:nom.acc.voc:n1.n2:imperf:aff:nonrefl']}),\n",
       " ('i', {'i': ['conj+interj+qub']}),\n",
       " ('okresowe',\n",
       "  {'okresowy': ['adj:pl:acc:m2.m3.f.n1.n2.p2.p3:pos+adj:pl:nom.voc:m2.m3.f.n1.n2.p2.p3:pos+adj:sg:acc:n1.n2:pos+adj:sg:nom.voc:n1.n2:pos']}),\n",
       " ('treść', {'treść': ['subst:sg:acc:f+subst:sg:nom:f']}),\n",
       " ('raportu', {'raport': ['subst:sg:gen:m3']}),\n",
       " ('w', {'w': ['prep:acc:nwok+prep:loc:nwok'], 'wiek': ['brev:pun']}),\n",
       " ('nawiązaniu',\n",
       "  {'nawiązanie': ['subst:sg:dat:n2+subst:sg:loc:n2'],\n",
       "   'nawiązać': ['ger:sg:dat.loc:n2:perf:aff:refl.nonrefl']}),\n",
       " ('do',\n",
       "  {'do': ['prep:gen+subst:pl:acc:n2+subst:pl:dat:n2+subst:pl:gen:n2+subst:pl:inst:n2+subst:pl:loc:n2+subst:pl:nom:n2+subst:pl:voc:n2+subst:sg:acc:n2+subst:sg:dat:n2+subst:sg:gen:n2+subst:sg:inst:n2+subst:sg:loc:n2+subst:sg:nom:n2+subst:sg:voc:n2']}),\n",
       " ('raportu', {'raport': ['subst:sg:gen:m3']}),\n",
       " ('bieżącego',\n",
       "  {'bieżący': ['adj:sg:acc:m1.m2:pos+adj:sg:gen:m1.m2.m3.n1.n2:pos'],\n",
       "   'bieżeć': ['pact:sg:acc:m1.m2:imperf:aff:nonrefl+pact:sg:gen:m1.m2.m3.n1.n2:imperf:aff:nonrefl']}),\n",
       " ('nr', {'numer': ['brev:npun']}),\n",
       " ('satis', {}),\n",
       " ('group', {}),\n",
       " ('s.a.', {}),\n",
       " ('z', {'z': ['prep:acc:nwok+prep:gen:nwok+prep:inst:nwok']}),\n",
       " ('siedzibą', {'siedziba': ['subst:sg:inst:f']}),\n",
       " ('w', {'w': ['prep:acc:nwok+prep:loc:nwok'], 'wiek': ['brev:pun']}),\n",
       " ('warszawie', {'warszawa': ['subst:sg:dat:f']}),\n",
       " ('emitent', {'emitent': ['subst:sg:nom:m1']}),\n",
       " ('informuje', {'informować': ['verb:fin:sg:ter:imperf:refl.nonrefl']}),\n",
       " ('o',\n",
       "  {'o': ['interj+prep:acc+prep:loc'],\n",
       "   'ocean': ['brev:pun'],\n",
       "   'ojciec': ['brev:pun']}),\n",
       " ('otrzymanym',\n",
       "  {'otrzymać': ['ppas:pl:dat:m1.m2.m3.f.n1.n2.p1.p2.p3:perf:aff+ppas:sg:inst.loc:m1.m2.m3.n1.n2:perf:aff']}),\n",
       " ('od', {'od': ['prep:gen:nwok'], 'oda': ['subst:pl:gen:f']}),\n",
       " ('pana', {'pan': ['subst:sg:acc:m1']}),\n",
       " ('nikodema', {}),\n",
       " ('wierzbickiego',\n",
       "  {'wierzbicki': ['adj:sg:acc:m1.m2:pos+adj:sg:gen:m1.m2.m3.n1.n2:pos']}),\n",
       " ('przedstawiającego',\n",
       "  {'przedstawiać': ['pact:sg:acc:m1.m2:imperf:aff:refl.nonrefl+pact:sg:gen:m1.m2.m3.n1.n2:imperf:aff:refl.nonrefl']}),\n",
       " ('się', {'się': ['siebie:acc:nakc+siebie:gen:nakc+subst:sg:nom:n2']}),\n",
       " ('jako', {'jako': ['adv+conj+prep:nom'], 'jaka': ['subst:sg:voc:f']}),\n",
       " ('przedstawiciel', {'przedstawiciel': ['subst:sg:nom:m1']}),\n",
       " ('porozumienia',\n",
       "  {'porozumienie': ['subst:pl:acc:n2+subst:pl:nom:n2+subst:pl:voc:n2+subst:sg:gen:n2'],\n",
       "   'porozumieć': ['ger:sg:gen:n2:perf:aff:refl']}),\n",
       " ('akcjonariuszy', {'akcjonariusz': ['subst:pl:acc:m1+subst:pl:gen:m1']}),\n",
       " ('które',\n",
       "  {'który': ['adj:pl:acc:m2.m3.f.n1.n2.p2.p3:pos+adj:pl:nom.voc:m2.m3.f.n1.n2.p2.p3:pos+adj:sg:acc:n1.n2:pos+adj:sg:nom.voc:n1.n2:pos']}),\n",
       " ('reprezentuje', {'reprezentować': ['verb:fin:sg:ter:imperf:refl.nonrefl']}),\n",
       " ('łącznie',\n",
       "  {'łącznie': ['adv:pos'],\n",
       "   'łącznia': ['subst:pl:acc:f+subst:pl:nom:f+subst:pl:voc:f'],\n",
       "   'łączeń': ['subst:pl:acc:m3+subst:pl:nom:m3+subst:pl:voc:m3']}),\n",
       " ('co', {'co': ['comp+prep:acc+prep:nom+qub']}),\n",
       " ('najmniej',\n",
       "  {'najmniej': ['num:pl:nom.acc:m1.m2.m3.f.n1.n2.p1.p2:rec+qub'],\n",
       "   'mało': ['adv:sup']}),\n",
       " ('jedną', {'jeden': ['adj:sg:acc:f:pos+adj:sg:inst:f:pos']}),\n",
       " ('dwudziestą',\n",
       "  {'dwudziesta': ['subst:sg:acc:f+subst:sg:inst:f'],\n",
       "   'dwudziesty': ['adj:sg:acc:f:pos+adj:sg:inst:f:pos']}),\n",
       " ('kapitału', {'kapitał': ['subst:sg:gen:m3']}),\n",
       " ('zakładowego',\n",
       "  {'zakładowy': ['adj:sg:acc:m1.m2:pos+adj:sg:gen:m1.m2.m3.n1.n2:pos']}),\n",
       " ('emitenta', {'emitent': ['subst:sg:acc:m1+subst:sg:gen:m1']}),\n",
       " ('żądaniu',\n",
       "  {'żądanie': ['subst:sg:dat:n2+subst:sg:loc:n2'],\n",
       "   'żądać': ['ger:sg:dat.loc:n2:imperf:aff:refl.nonrefl']}),\n",
       " ('uzupełnienia',\n",
       "  {'uzupełnienie': ['subst:pl:acc:n2+subst:pl:nom:n2+subst:pl:voc:n2+subst:sg:gen:n2'],\n",
       "   'uzupełnić': ['ger:sg:gen:n2:perf:aff:refl.nonrefl']}),\n",
       " ('porządku',\n",
       "  {'porządek': ['subst:sg:gen:m3+subst:sg:loc:m3+subst:sg:voc:m3']}),\n",
       " ('obrad', {'obrada': ['subst:pl:gen:f'], 'obrady': ['subst:pl:gen:p3']}),\n",
       " ('zwyczajnego',\n",
       "  {'zwyczajny': ['adj:sg:acc:m1.m2:pos+adj:sg:gen:m1.m2.m3.n1.n2:pos']}),\n",
       " ('walnego',\n",
       "  {'walny': ['adj:sg:acc:m1.m2:pos+adj:sg:gen:m1.m2.m3.n1.n2:pos']}),\n",
       " ('zgromadzenia',\n",
       "  {'zgromadzenie': ['subst:pl:acc:n2+subst:pl:nom:n2+subst:pl:voc:n2+subst:sg:gen:n2'],\n",
       "   'zgromadzić': ['ger:sg:gen:n2:perf:aff:refl.nonrefl']}),\n",
       " ('emitenta', {'emitent': ['subst:sg:acc:m1+subst:sg:gen:m1']}),\n",
       " ('zwza', {}),\n",
       " ('zwołanego',\n",
       "  {'zwołać': ['ppas:sg:acc:m1.m2:perf:aff+ppas:sg:gen:m1.m2.m3.n1.n2:perf:aff']}),\n",
       " ('na', {'na': ['interj+prep:acc+prep:loc']}),\n",
       " ('dzień',\n",
       "  {'dzień': ['subst:sg:acc:f+subst:sg:acc:m3+subst:sg:nom:f+subst:sg:nom:m3'],\n",
       "   'dzienia': ['subst:pl:gen:f'],\n",
       "   'dzienie': ['subst:pl:gen:n2'],\n",
       "   'dzienić': ['verb:impt:sg:sec:imperf:refl.nonrefl']}),\n",
       " ('czerwca', {'czerwiec': ['subst:sg:acc:m2']}),\n",
       " ('roku', {'rok': ['subst:sg:gen:m3+subst:sg:loc:m3+subst:sg:voc:m3']}),\n",
       " ('na', {'na': ['interj+prep:acc+prep:loc']}),\n",
       " ('godzinę', {'godzina': ['subst:sg:acc:f']}),\n",
       " ('podstawą', {'podstawa': ['subst:sg:inst:f']}),\n",
       " ('żądania',\n",
       "  {'żądanie': ['subst:pl:acc:n2+subst:pl:nom:n2+subst:pl:voc:n2+subst:sg:gen:n2'],\n",
       "   'żądać': ['ger:sg:gen:n2:imperf:aff:refl.nonrefl']}),\n",
       " ('jest', {'być': ['verb:fin:sg:ter:imperf:nonrefl']}),\n",
       " ('art', {'artykuł': ['brev:pun']}),\n",
       " ('§', {}),\n",
       " ('kodeksu', {'kodeks': ['subst:sg:gen:m3']}),\n",
       " ('spółek', {'spółka': ['subst:pl:gen:f']}),\n",
       " ('handlowych.w', {}),\n",
       " ('załączeniu',\n",
       "  {'załączenie': ['subst:sg:dat:n2+subst:sg:loc:n2'],\n",
       "   'załączyć': ['ger:sg:dat.loc:n2:perf:aff:refl.nonrefl']}),\n",
       " ('emitent', {'emitent': ['subst:sg:nom:m1']}),\n",
       " ('przekazuje', {'przekazywać': ['verb:fin:sg:ter:imperf:refl.nonrefl']}),\n",
       " ('żądanie',\n",
       "  {'żądanie': ['subst:sg:acc:n2+subst:sg:nom:n2+subst:sg:voc:n2'],\n",
       "   'żądać': ['ger:sg:nom.acc:n2:imperf:aff:refl.nonrefl']}),\n",
       " ('wraz', {'wraz': ['burk+subst:sg:acc:m3+subst:sg:nom:m3']}),\n",
       " ('z', {'z': ['prep:acc:nwok+prep:gen:nwok+prep:inst:nwok']}),\n",
       " ('projektem', {'projekt': ['subst:sg:inst:m3']}),\n",
       " ('uchwał', {'uchwała': ['subst:pl:gen:f']}),\n",
       " ('dotyczących',\n",
       "  {'dotyczyć': ['pact:pl:acc:m1.p1:imperf:aff:nonrefl+pact:pl:gen.loc:m1.m2.m3.f.n1.n2.p1.p2.p3:imperf:aff:nonrefl']}),\n",
       " ('odwołania',\n",
       "  {'odwołanie': ['subst:pl:acc:n2+subst:pl:nom:n2+subst:pl:voc:n2+subst:sg:gen:n2'],\n",
       "   'odwołać': ['ger:sg:gen:n2:perf:aff:refl.nonrefl']}),\n",
       " ('i', {'i': ['conj+interj+qub']}),\n",
       " ('powołania',\n",
       "  {'powołanie': ['subst:pl:acc:n2+subst:pl:nom:n2+subst:pl:voc:n2+subst:sg:gen:n2'],\n",
       "   'powołać': ['ger:sg:gen:n2:perf:aff:refl.nonrefl']}),\n",
       " ('członków',\n",
       "  {'członek': ['subst:pl:acc:m1+subst:pl:gen:m1+subst:pl:gen:m2+subst:pl:gen:m3']}),\n",
       " ('rady',\n",
       "  {'rad': ['subst:pl:acc:m3+subst:pl:nom:m3+subst:pl:voc:m3'],\n",
       "   'rada': ['subst:pl:acc:f+subst:pl:nom:f+subst:pl:voc:f+subst:sg:gen:f']}),\n",
       " ('nadzorczej',\n",
       "  {'nadzorczy': ['adj:sg:dat:f:pos+adj:sg:gen:f:pos+adj:sg:loc:f:pos']}),\n",
       " ('emitenta', {'emitent': ['subst:sg:acc:m1+subst:sg:gen:m1']}),\n",
       " ('załączniki',\n",
       "  {'załącznik': ['subst:pl:acc:m3+subst:pl:nom:m3+subst:pl:voc:m3']}),\n",
       " ('plik',\n",
       "  {'plik': ['subst:sg:acc:m3+subst:sg:nom:m3'], 'plika': ['subst:pl:gen:f']}),\n",
       " ('opis', {'opis': ['subst:sg:acc:m3+subst:sg:nom:m3']}),\n",
       " ('zadanie',\n",
       "  {'zadanie': ['subst:sg:acc:n2+subst:sg:nom:n2+subst:sg:voc:n2'],\n",
       "   'zadać': ['ger:sg:nom.acc:n2:perf:aff:refl.nonrefl']}),\n",
       " ('uzupelnienia', {}),\n",
       " ('porzadku', {}),\n",
       " ('obrad', {'obrada': ['subst:pl:gen:f'], 'obrady': ['subst:pl:gen:p3']}),\n",
       " ('zwza', {}),\n",
       " ('pdf', {}),\n",
       " ('żądanie',\n",
       "  {'żądanie': ['subst:sg:acc:n2+subst:sg:nom:n2+subst:sg:voc:n2'],\n",
       "   'żądać': ['ger:sg:nom.acc:n2:imperf:aff:refl.nonrefl']}),\n",
       " ('od', {'od': ['prep:gen:nwok'], 'oda': ['subst:pl:gen:f']}),\n",
       " ('akcjonariusza', {'akcjonariusz': ['subst:sg:acc:m1+subst:sg:gen:m1']})]"
      ]
     },
     "execution_count": 24,
     "metadata": {},
     "output_type": "execute_result"
    }
   ],
   "source": [
    "stemmer.stem(df.tokenized_tekst.loc[0], parser)"
   ]
  },
  {
   "cell_type": "code",
   "execution_count": 25,
   "metadata": {},
   "outputs": [],
   "source": [
    "stemming = stemmer.stem(df.tokenized_tekst.loc[0], parser)"
   ]
  },
  {
   "cell_type": "code",
   "execution_count": 26,
   "metadata": {},
   "outputs": [
    {
     "data": {
      "text/plain": [
       "[('komisja', {'komisja': ['subst:sg:nom:f']}),\n",
       " ('nadzoru', {'nadzór': ['subst:sg:gen:m3']}),\n",
       " ('finansowego',\n",
       "  {'finansowy': ['adj:sg:acc:m1.m2:pos+adj:sg:gen:m1.m2.m3.n1.n2:pos']}),\n",
       " ('raport', {'raport': ['subst:sg:acc:m3+subst:sg:nom:m3']}),\n",
       " ('bieżący',\n",
       "  {'bieżący': ['adj:pl:nom.voc:m1.p1:pos+adj:sg:acc:m3:pos+adj:sg:nom.voc:m1.m2.m3:pos'],\n",
       "   'bieżeć': ['pact:pl:nom.voc:m1.p1:imperf:aff:nonrefl+pact:sg:acc:m3:imperf:aff:nonrefl+pact:sg:nom.voc:m1.m2.m3:imperf:aff:nonrefl']}),\n",
       " ('nr', {'numer': ['brev:npun']}),\n",
       " ('data', {'data': ['subst:sg:nom:f']}),\n",
       " ('sporządzenia', {'sporządzić': ['ger:sg:gen:n2:perf:aff:refl.nonrefl']}),\n",
       " ('skrócona', {'skrócić': ['ppas:sg:nom.voc:f:perf:aff']}),\n",
       " ('nazwa', {'nazwa': ['subst:sg:nom:f']}),\n",
       " ('emitenta', {'emitent': ['subst:sg:acc:m1+subst:sg:gen:m1']}),\n",
       " ('satis', {}),\n",
       " ('group', {}),\n",
       " ('sa', {}),\n",
       " ('temat', {'temat': ['subst:sg:acc:m3+subst:sg:nom:m3']}),\n",
       " ('żądanie',\n",
       "  {'żądanie': ['subst:sg:acc:n2+subst:sg:nom:n2+subst:sg:voc:n2'],\n",
       "   'żądać': ['ger:sg:nom.acc:n2:imperf:aff:refl.nonrefl']}),\n",
       " ('uzupełnienia',\n",
       "  {'uzupełnienie': ['subst:pl:acc:n2+subst:pl:nom:n2+subst:pl:voc:n2+subst:sg:gen:n2'],\n",
       "   'uzupełnić': ['ger:sg:gen:n2:perf:aff:refl.nonrefl']}),\n",
       " ('porządku',\n",
       "  {'porządek': ['subst:sg:gen:m3+subst:sg:loc:m3+subst:sg:voc:m3']}),\n",
       " ('obrad', {'obrada': ['subst:pl:gen:f'], 'obrady': ['subst:pl:gen:p3']}),\n",
       " ('zwyczajnego',\n",
       "  {'zwyczajny': ['adj:sg:acc:m1.m2:pos+adj:sg:gen:m1.m2.m3.n1.n2:pos']}),\n",
       " ('walnego',\n",
       "  {'walny': ['adj:sg:acc:m1.m2:pos+adj:sg:gen:m1.m2.m3.n1.n2:pos']}),\n",
       " ('zgromadzenia',\n",
       "  {'zgromadzenie': ['subst:pl:acc:n2+subst:pl:nom:n2+subst:pl:voc:n2+subst:sg:gen:n2'],\n",
       "   'zgromadzić': ['ger:sg:gen:n2:perf:aff:refl.nonrefl']}),\n",
       " ('akcjonariuszy', {'akcjonariusz': ['subst:pl:acc:m1+subst:pl:gen:m1']}),\n",
       " ('podstawa', {'podstawa': ['subst:sg:nom:f']}),\n",
       " ('prawna', {'prawny': ['adj:sg:nom.voc:f:pos']}),\n",
       " ('art', {'artykuł': ['brev:pun']}),\n",
       " ('ust', {'usta': ['subst:pl:gen:p2']}),\n",
       " ('pkt', {'punkt': ['brev:npun']}),\n",
       " ('ustawy',\n",
       "  {'ustawa': ['subst:pl:acc:f+subst:pl:nom:f+subst:pl:voc:f+subst:sg:gen:f']}),\n",
       " ('o',\n",
       "  {'o': ['interj+prep:acc+prep:loc'],\n",
       "   'ocean': ['brev:pun'],\n",
       "   'ojciec': ['brev:pun']}),\n",
       " ('ofercie', {'oferta': ['subst:sg:dat:f+subst:sg:loc:f']}),\n",
       " ('informacje',\n",
       "  {'informacja': ['subst:pl:acc:f+subst:pl:nom:f+subst:pl:voc:f']}),\n",
       " ('bieżące',\n",
       "  {'bieżący': ['adj:pl:acc:m2.m3.f.n1.n2.p2.p3:pos+adj:pl:nom.voc:m2.m3.f.n1.n2.p2.p3:pos+adj:sg:acc:n1.n2:pos+adj:sg:nom.voc:n1.n2:pos'],\n",
       "   'bieżeć': ['pact:pl:nom.acc.voc:m2.m3.f.n1.n2.p2.p3:imperf:aff:nonrefl+pact:sg:nom.acc.voc:n1.n2:imperf:aff:nonrefl']}),\n",
       " ('i', {'i': ['conj+interj+qub']}),\n",
       " ('okresowe',\n",
       "  {'okresowy': ['adj:pl:acc:m2.m3.f.n1.n2.p2.p3:pos+adj:pl:nom.voc:m2.m3.f.n1.n2.p2.p3:pos+adj:sg:acc:n1.n2:pos+adj:sg:nom.voc:n1.n2:pos']}),\n",
       " ('treść', {'treść': ['subst:sg:acc:f+subst:sg:nom:f']}),\n",
       " ('raportu', {'raport': ['subst:sg:gen:m3']}),\n",
       " ('w', {'w': ['prep:acc:nwok+prep:loc:nwok'], 'wiek': ['brev:pun']}),\n",
       " ('nawiązaniu',\n",
       "  {'nawiązanie': ['subst:sg:dat:n2+subst:sg:loc:n2'],\n",
       "   'nawiązać': ['ger:sg:dat.loc:n2:perf:aff:refl.nonrefl']}),\n",
       " ('do',\n",
       "  {'do': ['prep:gen+subst:pl:acc:n2+subst:pl:dat:n2+subst:pl:gen:n2+subst:pl:inst:n2+subst:pl:loc:n2+subst:pl:nom:n2+subst:pl:voc:n2+subst:sg:acc:n2+subst:sg:dat:n2+subst:sg:gen:n2+subst:sg:inst:n2+subst:sg:loc:n2+subst:sg:nom:n2+subst:sg:voc:n2']}),\n",
       " ('raportu', {'raport': ['subst:sg:gen:m3']}),\n",
       " ('bieżącego',\n",
       "  {'bieżący': ['adj:sg:acc:m1.m2:pos+adj:sg:gen:m1.m2.m3.n1.n2:pos'],\n",
       "   'bieżeć': ['pact:sg:acc:m1.m2:imperf:aff:nonrefl+pact:sg:gen:m1.m2.m3.n1.n2:imperf:aff:nonrefl']}),\n",
       " ('nr', {'numer': ['brev:npun']}),\n",
       " ('satis', {}),\n",
       " ('group', {}),\n",
       " ('s.a.', {}),\n",
       " ('z', {'z': ['prep:acc:nwok+prep:gen:nwok+prep:inst:nwok']}),\n",
       " ('siedzibą', {'siedziba': ['subst:sg:inst:f']}),\n",
       " ('w', {'w': ['prep:acc:nwok+prep:loc:nwok'], 'wiek': ['brev:pun']}),\n",
       " ('warszawie', {'warszawa': ['subst:sg:dat:f']}),\n",
       " ('emitent', {'emitent': ['subst:sg:nom:m1']}),\n",
       " ('informuje', {'informować': ['verb:fin:sg:ter:imperf:refl.nonrefl']}),\n",
       " ('o',\n",
       "  {'o': ['interj+prep:acc+prep:loc'],\n",
       "   'ocean': ['brev:pun'],\n",
       "   'ojciec': ['brev:pun']}),\n",
       " ('otrzymanym',\n",
       "  {'otrzymać': ['ppas:pl:dat:m1.m2.m3.f.n1.n2.p1.p2.p3:perf:aff+ppas:sg:inst.loc:m1.m2.m3.n1.n2:perf:aff']}),\n",
       " ('od', {'od': ['prep:gen:nwok'], 'oda': ['subst:pl:gen:f']}),\n",
       " ('pana', {'pan': ['subst:sg:acc:m1']}),\n",
       " ('nikodema', {}),\n",
       " ('wierzbickiego',\n",
       "  {'wierzbicki': ['adj:sg:acc:m1.m2:pos+adj:sg:gen:m1.m2.m3.n1.n2:pos']}),\n",
       " ('przedstawiającego',\n",
       "  {'przedstawiać': ['pact:sg:acc:m1.m2:imperf:aff:refl.nonrefl+pact:sg:gen:m1.m2.m3.n1.n2:imperf:aff:refl.nonrefl']}),\n",
       " ('się', {'się': ['siebie:acc:nakc+siebie:gen:nakc+subst:sg:nom:n2']}),\n",
       " ('jako', {'jako': ['adv+conj+prep:nom'], 'jaka': ['subst:sg:voc:f']}),\n",
       " ('przedstawiciel', {'przedstawiciel': ['subst:sg:nom:m1']}),\n",
       " ('porozumienia',\n",
       "  {'porozumienie': ['subst:pl:acc:n2+subst:pl:nom:n2+subst:pl:voc:n2+subst:sg:gen:n2'],\n",
       "   'porozumieć': ['ger:sg:gen:n2:perf:aff:refl']}),\n",
       " ('akcjonariuszy', {'akcjonariusz': ['subst:pl:acc:m1+subst:pl:gen:m1']}),\n",
       " ('które',\n",
       "  {'który': ['adj:pl:acc:m2.m3.f.n1.n2.p2.p3:pos+adj:pl:nom.voc:m2.m3.f.n1.n2.p2.p3:pos+adj:sg:acc:n1.n2:pos+adj:sg:nom.voc:n1.n2:pos']}),\n",
       " ('reprezentuje', {'reprezentować': ['verb:fin:sg:ter:imperf:refl.nonrefl']}),\n",
       " ('łącznie',\n",
       "  {'łącznie': ['adv:pos'],\n",
       "   'łącznia': ['subst:pl:acc:f+subst:pl:nom:f+subst:pl:voc:f'],\n",
       "   'łączeń': ['subst:pl:acc:m3+subst:pl:nom:m3+subst:pl:voc:m3']}),\n",
       " ('co', {'co': ['comp+prep:acc+prep:nom+qub']}),\n",
       " ('najmniej',\n",
       "  {'najmniej': ['num:pl:nom.acc:m1.m2.m3.f.n1.n2.p1.p2:rec+qub'],\n",
       "   'mało': ['adv:sup']}),\n",
       " ('jedną', {'jeden': ['adj:sg:acc:f:pos+adj:sg:inst:f:pos']}),\n",
       " ('dwudziestą',\n",
       "  {'dwudziesta': ['subst:sg:acc:f+subst:sg:inst:f'],\n",
       "   'dwudziesty': ['adj:sg:acc:f:pos+adj:sg:inst:f:pos']}),\n",
       " ('kapitału', {'kapitał': ['subst:sg:gen:m3']}),\n",
       " ('zakładowego',\n",
       "  {'zakładowy': ['adj:sg:acc:m1.m2:pos+adj:sg:gen:m1.m2.m3.n1.n2:pos']}),\n",
       " ('emitenta', {'emitent': ['subst:sg:acc:m1+subst:sg:gen:m1']}),\n",
       " ('żądaniu',\n",
       "  {'żądanie': ['subst:sg:dat:n2+subst:sg:loc:n2'],\n",
       "   'żądać': ['ger:sg:dat.loc:n2:imperf:aff:refl.nonrefl']}),\n",
       " ('uzupełnienia',\n",
       "  {'uzupełnienie': ['subst:pl:acc:n2+subst:pl:nom:n2+subst:pl:voc:n2+subst:sg:gen:n2'],\n",
       "   'uzupełnić': ['ger:sg:gen:n2:perf:aff:refl.nonrefl']}),\n",
       " ('porządku',\n",
       "  {'porządek': ['subst:sg:gen:m3+subst:sg:loc:m3+subst:sg:voc:m3']}),\n",
       " ('obrad', {'obrada': ['subst:pl:gen:f'], 'obrady': ['subst:pl:gen:p3']}),\n",
       " ('zwyczajnego',\n",
       "  {'zwyczajny': ['adj:sg:acc:m1.m2:pos+adj:sg:gen:m1.m2.m3.n1.n2:pos']}),\n",
       " ('walnego',\n",
       "  {'walny': ['adj:sg:acc:m1.m2:pos+adj:sg:gen:m1.m2.m3.n1.n2:pos']}),\n",
       " ('zgromadzenia',\n",
       "  {'zgromadzenie': ['subst:pl:acc:n2+subst:pl:nom:n2+subst:pl:voc:n2+subst:sg:gen:n2'],\n",
       "   'zgromadzić': ['ger:sg:gen:n2:perf:aff:refl.nonrefl']}),\n",
       " ('emitenta', {'emitent': ['subst:sg:acc:m1+subst:sg:gen:m1']}),\n",
       " ('zwza', {}),\n",
       " ('zwołanego',\n",
       "  {'zwołać': ['ppas:sg:acc:m1.m2:perf:aff+ppas:sg:gen:m1.m2.m3.n1.n2:perf:aff']}),\n",
       " ('na', {'na': ['interj+prep:acc+prep:loc']}),\n",
       " ('dzień',\n",
       "  {'dzień': ['subst:sg:acc:f+subst:sg:acc:m3+subst:sg:nom:f+subst:sg:nom:m3'],\n",
       "   'dzienia': ['subst:pl:gen:f'],\n",
       "   'dzienie': ['subst:pl:gen:n2'],\n",
       "   'dzienić': ['verb:impt:sg:sec:imperf:refl.nonrefl']}),\n",
       " ('czerwca', {'czerwiec': ['subst:sg:acc:m2']}),\n",
       " ('roku', {'rok': ['subst:sg:gen:m3+subst:sg:loc:m3+subst:sg:voc:m3']}),\n",
       " ('na', {'na': ['interj+prep:acc+prep:loc']}),\n",
       " ('godzinę', {'godzina': ['subst:sg:acc:f']}),\n",
       " ('podstawą', {'podstawa': ['subst:sg:inst:f']}),\n",
       " ('żądania',\n",
       "  {'żądanie': ['subst:pl:acc:n2+subst:pl:nom:n2+subst:pl:voc:n2+subst:sg:gen:n2'],\n",
       "   'żądać': ['ger:sg:gen:n2:imperf:aff:refl.nonrefl']}),\n",
       " ('jest', {'być': ['verb:fin:sg:ter:imperf:nonrefl']}),\n",
       " ('art', {'artykuł': ['brev:pun']}),\n",
       " ('§', {}),\n",
       " ('kodeksu', {'kodeks': ['subst:sg:gen:m3']}),\n",
       " ('spółek', {'spółka': ['subst:pl:gen:f']}),\n",
       " ('handlowych.w', {}),\n",
       " ('załączeniu',\n",
       "  {'załączenie': ['subst:sg:dat:n2+subst:sg:loc:n2'],\n",
       "   'załączyć': ['ger:sg:dat.loc:n2:perf:aff:refl.nonrefl']}),\n",
       " ('emitent', {'emitent': ['subst:sg:nom:m1']}),\n",
       " ('przekazuje', {'przekazywać': ['verb:fin:sg:ter:imperf:refl.nonrefl']}),\n",
       " ('żądanie',\n",
       "  {'żądanie': ['subst:sg:acc:n2+subst:sg:nom:n2+subst:sg:voc:n2'],\n",
       "   'żądać': ['ger:sg:nom.acc:n2:imperf:aff:refl.nonrefl']}),\n",
       " ('wraz', {'wraz': ['burk+subst:sg:acc:m3+subst:sg:nom:m3']}),\n",
       " ('z', {'z': ['prep:acc:nwok+prep:gen:nwok+prep:inst:nwok']}),\n",
       " ('projektem', {'projekt': ['subst:sg:inst:m3']}),\n",
       " ('uchwał', {'uchwała': ['subst:pl:gen:f']}),\n",
       " ('dotyczących',\n",
       "  {'dotyczyć': ['pact:pl:acc:m1.p1:imperf:aff:nonrefl+pact:pl:gen.loc:m1.m2.m3.f.n1.n2.p1.p2.p3:imperf:aff:nonrefl']}),\n",
       " ('odwołania',\n",
       "  {'odwołanie': ['subst:pl:acc:n2+subst:pl:nom:n2+subst:pl:voc:n2+subst:sg:gen:n2'],\n",
       "   'odwołać': ['ger:sg:gen:n2:perf:aff:refl.nonrefl']}),\n",
       " ('i', {'i': ['conj+interj+qub']}),\n",
       " ('powołania',\n",
       "  {'powołanie': ['subst:pl:acc:n2+subst:pl:nom:n2+subst:pl:voc:n2+subst:sg:gen:n2'],\n",
       "   'powołać': ['ger:sg:gen:n2:perf:aff:refl.nonrefl']}),\n",
       " ('członków',\n",
       "  {'członek': ['subst:pl:acc:m1+subst:pl:gen:m1+subst:pl:gen:m2+subst:pl:gen:m3']}),\n",
       " ('rady',\n",
       "  {'rad': ['subst:pl:acc:m3+subst:pl:nom:m3+subst:pl:voc:m3'],\n",
       "   'rada': ['subst:pl:acc:f+subst:pl:nom:f+subst:pl:voc:f+subst:sg:gen:f']}),\n",
       " ('nadzorczej',\n",
       "  {'nadzorczy': ['adj:sg:dat:f:pos+adj:sg:gen:f:pos+adj:sg:loc:f:pos']}),\n",
       " ('emitenta', {'emitent': ['subst:sg:acc:m1+subst:sg:gen:m1']}),\n",
       " ('załączniki',\n",
       "  {'załącznik': ['subst:pl:acc:m3+subst:pl:nom:m3+subst:pl:voc:m3']}),\n",
       " ('plik',\n",
       "  {'plik': ['subst:sg:acc:m3+subst:sg:nom:m3'], 'plika': ['subst:pl:gen:f']}),\n",
       " ('opis', {'opis': ['subst:sg:acc:m3+subst:sg:nom:m3']}),\n",
       " ('zadanie',\n",
       "  {'zadanie': ['subst:sg:acc:n2+subst:sg:nom:n2+subst:sg:voc:n2'],\n",
       "   'zadać': ['ger:sg:nom.acc:n2:perf:aff:refl.nonrefl']}),\n",
       " ('uzupelnienia', {}),\n",
       " ('porzadku', {}),\n",
       " ('obrad', {'obrada': ['subst:pl:gen:f'], 'obrady': ['subst:pl:gen:p3']}),\n",
       " ('zwza', {}),\n",
       " ('pdf', {}),\n",
       " ('żądanie',\n",
       "  {'żądanie': ['subst:sg:acc:n2+subst:sg:nom:n2+subst:sg:voc:n2'],\n",
       "   'żądać': ['ger:sg:nom.acc:n2:imperf:aff:refl.nonrefl']}),\n",
       " ('od', {'od': ['prep:gen:nwok'], 'oda': ['subst:pl:gen:f']}),\n",
       " ('akcjonariusza', {'akcjonariusz': ['subst:sg:acc:m1+subst:sg:gen:m1']})]"
      ]
     },
     "execution_count": 26,
     "metadata": {},
     "output_type": "execute_result"
    }
   ],
   "source": [
    "stemming"
   ]
  },
  {
   "cell_type": "code",
   "execution_count": 27,
   "metadata": {},
   "outputs": [
    {
     "data": {
      "text/plain": [
       "126"
      ]
     },
     "execution_count": 27,
     "metadata": {},
     "output_type": "execute_result"
    }
   ],
   "source": [
    "len(stemming)"
   ]
  },
  {
   "cell_type": "code",
   "execution_count": 28,
   "metadata": {},
   "outputs": [
    {
     "data": {
      "text/plain": [
       "'bieżący'"
      ]
     },
     "execution_count": 28,
     "metadata": {},
     "output_type": "execute_result"
    }
   ],
   "source": [
    "list(stemming[4][1].keys())[0]"
   ]
  },
  {
   "cell_type": "code",
   "execution_count": 29,
   "metadata": {},
   "outputs": [
    {
     "data": {
      "text/plain": [
       "[]"
      ]
     },
     "execution_count": 29,
     "metadata": {},
     "output_type": "execute_result"
    }
   ],
   "source": [
    "list(stemming[11][1].keys())"
   ]
  },
  {
   "cell_type": "code",
   "execution_count": 30,
   "metadata": {},
   "outputs": [
    {
     "data": {
      "text/plain": [
       "['komisja',\n",
       " 'nadzór',\n",
       " 'finansowy',\n",
       " 'raport',\n",
       " 'bieżący',\n",
       " 'numer',\n",
       " 'data',\n",
       " 'sporządzić',\n",
       " 'skrócić',\n",
       " 'nazwa',\n",
       " 'emitent',\n",
       " 'temat',\n",
       " 'żądanie',\n",
       " 'uzupełnienie',\n",
       " 'porządek',\n",
       " 'obrada',\n",
       " 'zwyczajny',\n",
       " 'walny',\n",
       " 'zgromadzenie',\n",
       " 'akcjonariusz',\n",
       " 'podstawa',\n",
       " 'prawny',\n",
       " 'artykuł',\n",
       " 'usta',\n",
       " 'punkt',\n",
       " 'ustawa',\n",
       " 'o',\n",
       " 'oferta',\n",
       " 'informacja',\n",
       " 'bieżący',\n",
       " 'i',\n",
       " 'okresowy',\n",
       " 'treść',\n",
       " 'raport',\n",
       " 'w',\n",
       " 'nawiązanie',\n",
       " 'do',\n",
       " 'raport',\n",
       " 'bieżący',\n",
       " 'numer',\n",
       " 'z',\n",
       " 'siedziba',\n",
       " 'w',\n",
       " 'warszawa',\n",
       " 'emitent',\n",
       " 'informować',\n",
       " 'o',\n",
       " 'otrzymać',\n",
       " 'od',\n",
       " 'pan',\n",
       " 'wierzbicki',\n",
       " 'przedstawiać',\n",
       " 'się',\n",
       " 'jako',\n",
       " 'przedstawiciel',\n",
       " 'porozumienie',\n",
       " 'akcjonariusz',\n",
       " 'który',\n",
       " 'reprezentować',\n",
       " 'łącznie',\n",
       " 'co',\n",
       " 'najmniej',\n",
       " 'jeden',\n",
       " 'dwudziesta',\n",
       " 'kapitał',\n",
       " 'zakładowy',\n",
       " 'emitent',\n",
       " 'żądanie',\n",
       " 'uzupełnienie',\n",
       " 'porządek',\n",
       " 'obrada',\n",
       " 'zwyczajny',\n",
       " 'walny',\n",
       " 'zgromadzenie',\n",
       " 'emitent',\n",
       " 'zwołać',\n",
       " 'na',\n",
       " 'dzień',\n",
       " 'czerwiec',\n",
       " 'rok',\n",
       " 'na',\n",
       " 'godzina',\n",
       " 'podstawa',\n",
       " 'żądanie',\n",
       " 'być',\n",
       " 'artykuł',\n",
       " 'kodeks',\n",
       " 'spółka',\n",
       " 'załączenie',\n",
       " 'emitent',\n",
       " 'przekazywać',\n",
       " 'żądanie',\n",
       " 'wraz',\n",
       " 'z',\n",
       " 'projekt',\n",
       " 'uchwała',\n",
       " 'dotyczyć',\n",
       " 'odwołanie',\n",
       " 'i',\n",
       " 'powołanie',\n",
       " 'członek',\n",
       " 'rad',\n",
       " 'nadzorczy',\n",
       " 'emitent',\n",
       " 'załącznik',\n",
       " 'plik',\n",
       " 'opis',\n",
       " 'zadanie',\n",
       " 'obrada',\n",
       " 'żądanie',\n",
       " 'od',\n",
       " 'akcjonariusz']"
      ]
     },
     "execution_count": 30,
     "metadata": {},
     "output_type": "execute_result"
    }
   ],
   "source": [
    "[list(stemming[i][1].keys())[0] for i in range(len(stemming)) if len(list(stemming[i][1].keys()))>0]"
   ]
  },
  {
   "cell_type": "code",
   "execution_count": 31,
   "metadata": {},
   "outputs": [],
   "source": [
    "def stemming_func(tokenized_t):\n",
    "    stemmed_tekst = stemmer.stem(tokenized_t, parser)\n",
    "    return [list(stemmed_tekst[i][1].keys())[0] for i in range(len(stemmed_tekst)) if len(list(stemmed_tekst[i][1].keys()))>0]"
   ]
  },
  {
   "cell_type": "code",
   "execution_count": 32,
   "metadata": {},
   "outputs": [
    {
     "data": {
      "text/plain": [
       "['komisja',\n",
       " 'nadzór',\n",
       " 'finansowy',\n",
       " 'raport',\n",
       " 'bieżący',\n",
       " 'numer',\n",
       " 'data',\n",
       " 'sporządzić',\n",
       " 'skrócić',\n",
       " 'nazwa',\n",
       " 'emitent',\n",
       " 'temat',\n",
       " 'żądanie',\n",
       " 'uzupełnienie',\n",
       " 'porządek',\n",
       " 'obrada',\n",
       " 'zwyczajny',\n",
       " 'walny',\n",
       " 'zgromadzenie',\n",
       " 'akcjonariusz',\n",
       " 'podstawa',\n",
       " 'prawny',\n",
       " 'artykuł',\n",
       " 'usta',\n",
       " 'punkt',\n",
       " 'ustawa',\n",
       " 'o',\n",
       " 'oferta',\n",
       " 'informacja',\n",
       " 'bieżący',\n",
       " 'i',\n",
       " 'okresowy',\n",
       " 'treść',\n",
       " 'raport',\n",
       " 'w',\n",
       " 'nawiązanie',\n",
       " 'do',\n",
       " 'raport',\n",
       " 'bieżący',\n",
       " 'numer',\n",
       " 'z',\n",
       " 'siedziba',\n",
       " 'w',\n",
       " 'warszawa',\n",
       " 'emitent',\n",
       " 'informować',\n",
       " 'o',\n",
       " 'otrzymać',\n",
       " 'od',\n",
       " 'pan',\n",
       " 'wierzbicki',\n",
       " 'przedstawiać',\n",
       " 'się',\n",
       " 'jako',\n",
       " 'przedstawiciel',\n",
       " 'porozumienie',\n",
       " 'akcjonariusz',\n",
       " 'który',\n",
       " 'reprezentować',\n",
       " 'łącznie',\n",
       " 'co',\n",
       " 'najmniej',\n",
       " 'jeden',\n",
       " 'dwudziesta',\n",
       " 'kapitał',\n",
       " 'zakładowy',\n",
       " 'emitent',\n",
       " 'żądanie',\n",
       " 'uzupełnienie',\n",
       " 'porządek',\n",
       " 'obrada',\n",
       " 'zwyczajny',\n",
       " 'walny',\n",
       " 'zgromadzenie',\n",
       " 'emitent',\n",
       " 'zwołać',\n",
       " 'na',\n",
       " 'dzień',\n",
       " 'czerwiec',\n",
       " 'rok',\n",
       " 'na',\n",
       " 'godzina',\n",
       " 'podstawa',\n",
       " 'żądanie',\n",
       " 'być',\n",
       " 'artykuł',\n",
       " 'kodeks',\n",
       " 'spółka',\n",
       " 'załączenie',\n",
       " 'emitent',\n",
       " 'przekazywać',\n",
       " 'żądanie',\n",
       " 'wraz',\n",
       " 'z',\n",
       " 'projekt',\n",
       " 'uchwała',\n",
       " 'dotyczyć',\n",
       " 'odwołanie',\n",
       " 'i',\n",
       " 'powołanie',\n",
       " 'członek',\n",
       " 'rad',\n",
       " 'nadzorczy',\n",
       " 'emitent',\n",
       " 'załącznik',\n",
       " 'plik',\n",
       " 'opis',\n",
       " 'zadanie',\n",
       " 'obrada',\n",
       " 'żądanie',\n",
       " 'od',\n",
       " 'akcjonariusz']"
      ]
     },
     "execution_count": 32,
     "metadata": {},
     "output_type": "execute_result"
    }
   ],
   "source": [
    "stemming_func(df.tokenized_tekst.loc[0])"
   ]
  },
  {
   "cell_type": "code",
   "execution_count": 33,
   "metadata": {},
   "outputs": [],
   "source": [
    "##%%timeit\n",
    "df['tekst_lemma'] = df['tokenized_tekst'].map(stemming_func) \n",
    "## dość wolno to działa"
   ]
  },
  {
   "cell_type": "code",
   "execution_count": 34,
   "metadata": {},
   "outputs": [],
   "source": [
    "##%%timeit\n",
    "##df['tekst_lemma'] = df['tokenized_tekst'].apply(stemming_func) \n",
    "## ten jest wolniejszy ale niedużo"
   ]
  },
  {
   "cell_type": "code",
   "execution_count": 35,
   "metadata": {},
   "outputs": [
    {
     "data": {
      "text/plain": [
       "112"
      ]
     },
     "execution_count": 35,
     "metadata": {},
     "output_type": "execute_result"
    }
   ],
   "source": [
    "len(df.tekst_lemma.iloc[0])"
   ]
  },
  {
   "cell_type": "code",
   "execution_count": 36,
   "metadata": {},
   "outputs": [],
   "source": [
    "from stop_words import get_stop_words\n",
    "stop_words = get_stop_words('pl')\n",
    "other_stop_words = list('abcdefghijklmnopqrstuvxwyz')\n",
    "stop_words.extend(other_stop_words)\n",
    "stop_words=sorted(list(set(stop_words)))"
   ]
  },
  {
   "cell_type": "code",
   "execution_count": 37,
   "metadata": {},
   "outputs": [
    {
     "data": {
      "text/plain": [
       "['a',\n",
       " 'ach',\n",
       " 'aj',\n",
       " 'albo',\n",
       " 'b',\n",
       " 'bardzo',\n",
       " 'bez',\n",
       " 'bo',\n",
       " 'być',\n",
       " 'c',\n",
       " 'ci',\n",
       " 'ciebie',\n",
       " 'cię',\n",
       " 'co',\n",
       " 'czy',\n",
       " 'd',\n",
       " 'daleko',\n",
       " 'dla',\n",
       " 'dlaczego',\n",
       " 'dlatego',\n",
       " 'do',\n",
       " 'dobrze',\n",
       " 'dokąd',\n",
       " 'dość',\n",
       " 'dużo',\n",
       " 'dwa',\n",
       " 'dwaj',\n",
       " 'dwie',\n",
       " 'dwoje',\n",
       " 'dzisiaj',\n",
       " 'dziś',\n",
       " 'e',\n",
       " 'f',\n",
       " 'g',\n",
       " 'gdyby',\n",
       " 'gdzie',\n",
       " 'go',\n",
       " 'h',\n",
       " 'i',\n",
       " 'ich',\n",
       " 'ile',\n",
       " 'im',\n",
       " 'inny',\n",
       " 'j',\n",
       " 'ja',\n",
       " 'jak',\n",
       " 'jakby',\n",
       " 'jaki',\n",
       " 'je',\n",
       " 'jeden',\n",
       " 'jedna',\n",
       " 'jedno',\n",
       " 'jego',\n",
       " 'jej',\n",
       " 'jemu',\n",
       " 'jest',\n",
       " 'jestem',\n",
       " 'jeśli',\n",
       " 'jeżeli',\n",
       " 'już',\n",
       " 'ją',\n",
       " 'k',\n",
       " 'każdy',\n",
       " 'kiedy',\n",
       " 'kierunku',\n",
       " 'kto',\n",
       " 'ku',\n",
       " 'l',\n",
       " 'lub',\n",
       " 'm',\n",
       " 'ma',\n",
       " 'mają',\n",
       " 'mam',\n",
       " 'mi',\n",
       " 'mnie',\n",
       " 'mną',\n",
       " 'moi',\n",
       " 'moja',\n",
       " 'moje',\n",
       " 'może',\n",
       " 'mu',\n",
       " 'my',\n",
       " 'mój',\n",
       " 'n',\n",
       " 'na',\n",
       " 'nam',\n",
       " 'nami',\n",
       " 'nas',\n",
       " 'nasi',\n",
       " 'nasz',\n",
       " 'nasza',\n",
       " 'nasze',\n",
       " 'natychmiast',\n",
       " 'nic',\n",
       " 'nich',\n",
       " 'nie',\n",
       " 'niego',\n",
       " 'niej',\n",
       " 'niemu',\n",
       " 'nigdy',\n",
       " 'nim',\n",
       " 'nimi',\n",
       " 'nią',\n",
       " 'niż',\n",
       " 'o',\n",
       " 'obok',\n",
       " 'od',\n",
       " 'około',\n",
       " 'on',\n",
       " 'ona',\n",
       " 'one',\n",
       " 'oni',\n",
       " 'ono',\n",
       " 'owszem',\n",
       " 'p',\n",
       " 'po',\n",
       " 'pod',\n",
       " 'ponieważ',\n",
       " 'przed',\n",
       " 'przedtem',\n",
       " 'q',\n",
       " 'r',\n",
       " 's',\n",
       " 'sam',\n",
       " 'sama',\n",
       " 'się',\n",
       " 'skąd',\n",
       " 'są',\n",
       " 't',\n",
       " 'tak',\n",
       " 'taki',\n",
       " 'tam',\n",
       " 'ten',\n",
       " 'to',\n",
       " 'tobie',\n",
       " 'tobą',\n",
       " 'tu',\n",
       " 'tutaj',\n",
       " 'twoi',\n",
       " 'twoja',\n",
       " 'twoje',\n",
       " 'twój',\n",
       " 'ty',\n",
       " 'u',\n",
       " 'v',\n",
       " 'w',\n",
       " 'wam',\n",
       " 'wami',\n",
       " 'was',\n",
       " 'wasi',\n",
       " 'wasz',\n",
       " 'wasza',\n",
       " 'wasze',\n",
       " 'we',\n",
       " 'więc',\n",
       " 'wszystko',\n",
       " 'wtedy',\n",
       " 'wy',\n",
       " 'x',\n",
       " 'y',\n",
       " 'z',\n",
       " 'zawsze',\n",
       " 'żaden',\n",
       " 'że']"
      ]
     },
     "execution_count": 37,
     "metadata": {},
     "output_type": "execute_result"
    }
   ],
   "source": [
    "stop_words"
   ]
  },
  {
   "cell_type": "code",
   "execution_count": 38,
   "metadata": {},
   "outputs": [
    {
     "data": {
      "text/plain": [
       "['komisja',\n",
       " 'nadzór',\n",
       " 'finansowy',\n",
       " 'raport',\n",
       " 'bieżący',\n",
       " 'numer',\n",
       " 'data',\n",
       " 'sporządzić',\n",
       " 'skrócić',\n",
       " 'nazwa',\n",
       " 'emitent',\n",
       " 'temat',\n",
       " 'żądanie',\n",
       " 'uzupełnienie',\n",
       " 'porządek',\n",
       " 'obrada',\n",
       " 'zwyczajny',\n",
       " 'walny',\n",
       " 'zgromadzenie',\n",
       " 'akcjonariusz',\n",
       " 'podstawa',\n",
       " 'prawny',\n",
       " 'artykuł',\n",
       " 'usta',\n",
       " 'punkt',\n",
       " 'ustawa',\n",
       " 'o',\n",
       " 'oferta',\n",
       " 'informacja',\n",
       " 'bieżący',\n",
       " 'i',\n",
       " 'okresowy',\n",
       " 'treść',\n",
       " 'raport',\n",
       " 'w',\n",
       " 'nawiązanie',\n",
       " 'do',\n",
       " 'raport',\n",
       " 'bieżący',\n",
       " 'numer',\n",
       " 'z',\n",
       " 'siedziba',\n",
       " 'w',\n",
       " 'warszawa',\n",
       " 'emitent',\n",
       " 'informować',\n",
       " 'o',\n",
       " 'otrzymać',\n",
       " 'od',\n",
       " 'pan',\n",
       " 'wierzbicki',\n",
       " 'przedstawiać',\n",
       " 'się',\n",
       " 'jako',\n",
       " 'przedstawiciel',\n",
       " 'porozumienie',\n",
       " 'akcjonariusz',\n",
       " 'który',\n",
       " 'reprezentować',\n",
       " 'łącznie',\n",
       " 'co',\n",
       " 'najmniej',\n",
       " 'jeden',\n",
       " 'dwudziesta',\n",
       " 'kapitał',\n",
       " 'zakładowy',\n",
       " 'emitent',\n",
       " 'żądanie',\n",
       " 'uzupełnienie',\n",
       " 'porządek',\n",
       " 'obrada',\n",
       " 'zwyczajny',\n",
       " 'walny',\n",
       " 'zgromadzenie',\n",
       " 'emitent',\n",
       " 'zwołać',\n",
       " 'na',\n",
       " 'dzień',\n",
       " 'czerwiec',\n",
       " 'rok',\n",
       " 'na',\n",
       " 'godzina',\n",
       " 'podstawa',\n",
       " 'żądanie',\n",
       " 'być',\n",
       " 'artykuł',\n",
       " 'kodeks',\n",
       " 'spółka',\n",
       " 'załączenie',\n",
       " 'emitent',\n",
       " 'przekazywać',\n",
       " 'żądanie',\n",
       " 'wraz',\n",
       " 'z',\n",
       " 'projekt',\n",
       " 'uchwała',\n",
       " 'dotyczyć',\n",
       " 'odwołanie',\n",
       " 'i',\n",
       " 'powołanie',\n",
       " 'członek',\n",
       " 'rad',\n",
       " 'nadzorczy',\n",
       " 'emitent',\n",
       " 'załącznik',\n",
       " 'plik',\n",
       " 'opis',\n",
       " 'zadanie',\n",
       " 'obrada',\n",
       " 'żądanie',\n",
       " 'od',\n",
       " 'akcjonariusz']"
      ]
     },
     "execution_count": 38,
     "metadata": {},
     "output_type": "execute_result"
    }
   ],
   "source": [
    "articles = df.tekst_lemma.iloc[0]\n",
    "articles"
   ]
  },
  {
   "cell_type": "code",
   "execution_count": 39,
   "metadata": {},
   "outputs": [
    {
     "data": {
      "text/plain": [
       "['o',\n",
       " 'i',\n",
       " 'w',\n",
       " 'do',\n",
       " 'z',\n",
       " 'w',\n",
       " 'o',\n",
       " 'od',\n",
       " 'się',\n",
       " 'co',\n",
       " 'jeden',\n",
       " 'na',\n",
       " 'na',\n",
       " 'być',\n",
       " 'z',\n",
       " 'i',\n",
       " 'od']"
      ]
     },
     "execution_count": 39,
     "metadata": {},
     "output_type": "execute_result"
    }
   ],
   "source": [
    "articles_mod = [a for a in articles if a in stop_words]\n",
    "articles_mod"
   ]
  },
  {
   "cell_type": "code",
   "execution_count": 40,
   "metadata": {},
   "outputs": [
    {
     "data": {
      "text/plain": [
       "['komisja',\n",
       " 'nadzór',\n",
       " 'finansowy',\n",
       " 'raport',\n",
       " 'bieżący',\n",
       " 'numer',\n",
       " 'data',\n",
       " 'sporządzić',\n",
       " 'skrócić',\n",
       " 'nazwa',\n",
       " 'emitent',\n",
       " 'temat',\n",
       " 'żądanie',\n",
       " 'uzupełnienie',\n",
       " 'porządek',\n",
       " 'obrada',\n",
       " 'zwyczajny',\n",
       " 'walny',\n",
       " 'zgromadzenie',\n",
       " 'akcjonariusz',\n",
       " 'podstawa',\n",
       " 'prawny',\n",
       " 'artykuł',\n",
       " 'usta',\n",
       " 'punkt',\n",
       " 'ustawa',\n",
       " 'oferta',\n",
       " 'informacja',\n",
       " 'bieżący',\n",
       " 'okresowy',\n",
       " 'treść',\n",
       " 'raport',\n",
       " 'nawiązanie',\n",
       " 'raport',\n",
       " 'bieżący',\n",
       " 'numer',\n",
       " 'siedziba',\n",
       " 'warszawa',\n",
       " 'emitent',\n",
       " 'informować',\n",
       " 'otrzymać',\n",
       " 'pan',\n",
       " 'wierzbicki',\n",
       " 'przedstawiać',\n",
       " 'jako',\n",
       " 'przedstawiciel',\n",
       " 'porozumienie',\n",
       " 'akcjonariusz',\n",
       " 'który',\n",
       " 'reprezentować',\n",
       " 'łącznie',\n",
       " 'najmniej',\n",
       " 'dwudziesta',\n",
       " 'kapitał',\n",
       " 'zakładowy',\n",
       " 'emitent',\n",
       " 'żądanie',\n",
       " 'uzupełnienie',\n",
       " 'porządek',\n",
       " 'obrada',\n",
       " 'zwyczajny',\n",
       " 'walny',\n",
       " 'zgromadzenie',\n",
       " 'emitent',\n",
       " 'zwołać',\n",
       " 'dzień',\n",
       " 'czerwiec',\n",
       " 'rok',\n",
       " 'godzina',\n",
       " 'podstawa',\n",
       " 'żądanie',\n",
       " 'artykuł',\n",
       " 'kodeks',\n",
       " 'spółka',\n",
       " 'załączenie',\n",
       " 'emitent',\n",
       " 'przekazywać',\n",
       " 'żądanie',\n",
       " 'wraz',\n",
       " 'projekt',\n",
       " 'uchwała',\n",
       " 'dotyczyć',\n",
       " 'odwołanie',\n",
       " 'powołanie',\n",
       " 'członek',\n",
       " 'rad',\n",
       " 'nadzorczy',\n",
       " 'emitent',\n",
       " 'załącznik',\n",
       " 'plik',\n",
       " 'opis',\n",
       " 'zadanie',\n",
       " 'obrada',\n",
       " 'żądanie',\n",
       " 'akcjonariusz']"
      ]
     },
     "execution_count": 40,
     "metadata": {},
     "output_type": "execute_result"
    }
   ],
   "source": [
    "articles_mod = [a for a in articles if a not in stop_words]\n",
    "articles_mod"
   ]
  },
  {
   "cell_type": "code",
   "execution_count": 41,
   "metadata": {},
   "outputs": [],
   "source": [
    "def remove_stop_words(lemma_tekst):\n",
    "    list1 = [a for a in lemma_tekst if a not in stop_words]  \n",
    "    return \" \".join(list1)   "
   ]
  },
  {
   "cell_type": "code",
   "execution_count": 42,
   "metadata": {},
   "outputs": [
    {
     "data": {
      "text/plain": [
       "'komisja nadzór finansowy raport bieżący numer data sporządzić skrócić nazwa emitent temat żądanie uzupełnienie porządek obrada zwyczajny walny zgromadzenie akcjonariusz podstawa prawny artykuł usta punkt ustawa oferta informacja bieżący okresowy treść raport nawiązanie raport bieżący numer siedziba warszawa emitent informować otrzymać pan wierzbicki przedstawiać jako przedstawiciel porozumienie akcjonariusz który reprezentować łącznie najmniej dwudziesta kapitał zakładowy emitent żądanie uzupełnienie porządek obrada zwyczajny walny zgromadzenie emitent zwołać dzień czerwiec rok godzina podstawa żądanie artykuł kodeks spółka załączenie emitent przekazywać żądanie wraz projekt uchwała dotyczyć odwołanie powołanie członek rad nadzorczy emitent załącznik plik opis zadanie obrada żądanie akcjonariusz'"
      ]
     },
     "execution_count": 42,
     "metadata": {},
     "output_type": "execute_result"
    }
   ],
   "source": [
    "remove_stop_words(articles)"
   ]
  },
  {
   "cell_type": "code",
   "execution_count": 43,
   "metadata": {},
   "outputs": [],
   "source": [
    "df['tekst_mod'] = df['tekst_lemma'].apply(remove_stop_words) "
   ]
  },
  {
   "cell_type": "code",
   "execution_count": 44,
   "metadata": {},
   "outputs": [
    {
     "data": {
      "text/plain": [
       "0    komisja nadzór finansowy raport bieżący numer ...\n",
       "1    komisja nadzór finansowy raport bieżący numer ...\n",
       "2    komisja nadzór finansowy raport bieżący numer ...\n",
       "3    komisja nadzór finansowy raport bieżący numer ...\n",
       "4    komisja nadzór finansowy raport bieżący numer ...\n",
       "Name: tekst_mod, dtype: object"
      ]
     },
     "execution_count": 44,
     "metadata": {},
     "output_type": "execute_result"
    }
   ],
   "source": [
    "X = df.tekst_mod\n",
    "X.head()"
   ]
  },
  {
   "cell_type": "code",
   "execution_count": 45,
   "metadata": {},
   "outputs": [],
   "source": [
    "#df.tekst_lemma.iloc[1]"
   ]
  },
  {
   "cell_type": "code",
   "execution_count": 46,
   "metadata": {},
   "outputs": [
    {
     "name": "stdout",
     "output_type": "stream",
     "text": [
      "y = 0\n",
      "X = komisja nadzór finansowy raport bieżący numer data sporządzić skrócić nazwa emitent temat powołanie członek rad nadzorczy podstawa prawny artykuł usta punkt ustawa oferta informacja bieżący okresowy treść raport zarząd spółka powszechny zakład ubezpieczenie spółka akcyjny spółka informować zwyczajny walny zgromadzenie spółka dzień maja rok powołać skład rad nadzorczy spółka nowa kadencja następujący osoba powierzać pełnieć funkcja członek rad nadzorczy jastrzębski powierzać pełnieć funkcja członek rad nadzorczy nowak powierzać pełnieć funkcja członek rad nadzorczy powierzać pełnieć funkcja członek rad nadzorczy górnicki powierzać pełnieć funkcja członek rad nadzorczy sylwester powierzać pełnieć funkcja członek rad nadzorczy powierzać pełnieć funkcja członek rad nadzorczy powierzać pełnieć funkcja członek rad nadzorczy opolski powierzać pełnieć funkcja członek rad nadzorczy zaborowski powierzać pełnieć funkcja członek rad nadzorczy następować dzień maja rok okres wspólny kadencja który obejmować trzy kolejny pełny latać obrotowy załączenie zarząd spółka przekazywać życiorys powołany członek rad nadzorczy prawny punkt rozporządzenie minister finanse dzień marzec rok sprawa informacja bieżący okresowy przekazywać przez emitent papier wartościowy oraz warunki uznawać za równoważny informacja wymagać przepis prawa państwo państwo członkowski załącznik plik opis rad nadzorczy życiorys powołany członek rad nadzorczy\n",
      "size = 992\n"
     ]
    }
   ],
   "source": [
    "i=100\n",
    "print(\"y =\",y.iloc[i])\n",
    "print(\"X =\",X.iloc[i])\n",
    "print(\"size =\",y.size)"
   ]
  },
  {
   "cell_type": "code",
   "execution_count": null,
   "metadata": {},
   "outputs": [],
   "source": []
  },
  {
   "cell_type": "code",
   "execution_count": null,
   "metadata": {},
   "outputs": [],
   "source": [
    "from sklearn.decomposition import TruncatedSVD\n",
    "from sklearn.pipeline import Pipeline\n",
    "from sklearn.model_selection import train_test_split\n",
    "from sklearn.pipeline import make_pipeline\n",
    "from sklearn.metrics import accuracy_score\n",
    "from warnings import filterwarnings\n",
    "filterwarnings(\"ignore\")\n",
    "from sklearn.feature_extraction.text import CountVectorizer\n",
    "from sklearn.pipeline import Pipeline\n",
    "from sklearn.linear_model import LogisticRegression"
   ]
  },
  {
   "cell_type": "code",
   "execution_count": null,
   "metadata": {},
   "outputs": [],
   "source": [
    "cv = CountVectorizer(min_df=100, max_df=0.5)\n",
    "cv.fit(X)\n",
    "X_cv=cv.transform(X)\n",
    "X_cv"
   ]
  },
  {
   "cell_type": "code",
   "execution_count": null,
   "metadata": {},
   "outputs": [],
   "source": [
    "k = 5 \n",
    "for i in range(100):\n",
    "    order = [X_cv[i].todense().argsort().A.flatten()]\n",
    "    print(np.array(cv.get_feature_names())[order][-k:][::-1])"
   ]
  },
  {
   "cell_type": "code",
   "execution_count": null,
   "metadata": {},
   "outputs": [],
   "source": [
    "X_cv[:,cv.get_feature_names().index(\"głos\")].todense()"
   ]
  },
  {
   "cell_type": "code",
   "execution_count": null,
   "metadata": {},
   "outputs": [],
   "source": [
    "cv.get_feature_names()"
   ]
  },
  {
   "cell_type": "code",
   "execution_count": null,
   "metadata": {},
   "outputs": [],
   "source": [
    "C_index = y[y>0].index"
   ]
  },
  {
   "cell_type": "code",
   "execution_count": null,
   "metadata": {},
   "outputs": [],
   "source": [
    "X_indexed = X.loc[C_index]"
   ]
  },
  {
   "cell_type": "code",
   "execution_count": null,
   "metadata": {},
   "outputs": [],
   "source": [
    "cv = CountVectorizer(min_df=100, max_df=0.5)\n",
    "cv.fit(X_indexed)\n",
    "X_indexed_cv=cv.transform(X_indexed)"
   ]
  },
  {
   "cell_type": "code",
   "execution_count": null,
   "metadata": {},
   "outputs": [],
   "source": [
    "important_set = set(np.array(cv.get_feature_names()))"
   ]
  },
  {
   "cell_type": "code",
   "execution_count": null,
   "metadata": {},
   "outputs": [],
   "source": [
    "cv = CountVectorizer(min_df=100, max_df=0.5)\n",
    "cv.fit(X)\n",
    "X_cv=cv.transform(X)"
   ]
  },
  {
   "cell_type": "code",
   "execution_count": null,
   "metadata": {},
   "outputs": [],
   "source": [
    "stop_words_moje = set(np.array(cv.get_feature_names())) - important_set"
   ]
  },
  {
   "cell_type": "code",
   "execution_count": null,
   "metadata": {},
   "outputs": [],
   "source": [
    "len(stop_words_moje)"
   ]
  },
  {
   "cell_type": "code",
   "execution_count": null,
   "metadata": {},
   "outputs": [],
   "source": [
    "stop_words_moje"
   ]
  },
  {
   "cell_type": "code",
   "execution_count": null,
   "metadata": {},
   "outputs": [],
   "source": [
    "X_train, X_test, y_train, y_test = train_test_split(X,y,test_size=100)\n",
    "pipe = Pipeline([(\"vectorizer\", CountVectorizer(min_df=100, max_df=0.5, stop_words=list(stop_words_moje))),\n",
    "                 (\"model\", LogisticRegression(C=10,max_iter=200))])\n",
    "\n",
    "pipe.fit(X_train, y_train)\n",
    "predictions = pipe.predict(X_test)\n",
    "accuracy_score(y_test, predictions)"
   ]
  },
  {
   "cell_type": "code",
   "execution_count": null,
   "metadata": {},
   "outputs": [],
   "source": []
  }
 ],
 "metadata": {
  "kernelspec": {
   "display_name": "Python 3",
   "language": "python",
   "name": "python3"
  },
  "language_info": {
   "codemirror_mode": {
    "name": "ipython",
    "version": 3
   },
   "file_extension": ".py",
   "mimetype": "text/x-python",
   "name": "python",
   "nbconvert_exporter": "python",
   "pygments_lexer": "ipython3",
   "version": "3.6.9"
  }
 },
 "nbformat": 4,
 "nbformat_minor": 2
}
