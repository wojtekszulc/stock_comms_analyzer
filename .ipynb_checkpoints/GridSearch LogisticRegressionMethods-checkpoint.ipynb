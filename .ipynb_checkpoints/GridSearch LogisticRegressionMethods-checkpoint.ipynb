{
 "cells": [
  {
   "cell_type": "code",
   "execution_count": 71,
   "metadata": {},
   "outputs": [],
   "source": [
    "import pandas as pd\n",
    "import numpy as np\n",
    "from sklearn.linear_model import LogisticRegression\n",
    "from sklearn.svm import SVC\n",
    "from sklearn.tree import DecisionTreeClassifier\n",
    "from sklearn.ensemble import RandomForestClassifier\n",
    "from sklearn.ensemble import BaggingClassifier\n",
    "from sklearn.naive_bayes import MultinomialNB\n",
    "from sklearn.preprocessing import StandardScaler\n",
    "from sklearn.preprocessing import PolynomialFeatures\n",
    "from sklearn.preprocessing import MaxAbsScaler\n",
    "from sklearn.model_selection import cross_val_predict\n",
    "from sklearn.model_selection import train_test_split\n",
    "from sklearn.model_selection import GridSearchCV\n",
    "from sklearn.pipeline import make_pipeline\n",
    "from sklearn.metrics import accuracy_score\n",
    "from sklearn.tree import plot_tree\n",
    "import matplotlib.pyplot as plt\n",
    "from warnings import filterwarnings\n",
    "filterwarnings(\"ignore\")\n",
    "\n",
    "from sklearn.feature_extraction.text import CountVectorizer"
   ]
  },
  {
   "cell_type": "code",
   "execution_count": 72,
   "metadata": {},
   "outputs": [],
   "source": [
    "from sklearn.datasets import load_breast_cancer\n",
    "cancer = load_breast_cancer()\n",
    "X, y = cancer.data, cancer.target"
   ]
  },
  {
   "cell_type": "code",
   "execution_count": 101,
   "metadata": {},
   "outputs": [
    {
     "name": "stdout",
     "output_type": "stream",
     "text": [
      "0.97 pipeline.Pipeline {'svc__kernel': 'linear'}\n",
      "0.97 pipeline.Pipeline {'logisticregression__C': 100}\n",
      "0.96 linear_model.logistic.LogisticRegression {'C': 1000}\n",
      "0.84 naive_bayes.MultinomialNB {}\n",
      "0.94 tree.tree.DecisionTreeClassifier {'max_depth': 5}\n",
      "0.91 tree.tree.DecisionTreeClassifier {'min_samples_leaf': 28}\n",
      "0.87 ensemble.forest.RandomForestClassifier {'min_samples_leaf': 28, 'n_estimators': 100}\n",
      "0.94 ensemble.bagging.BaggingClassifier {'max_features': 0.3, 'max_samples': 0.5, 'n_estimators': 100}\n"
     ]
    }
   ],
   "source": [
    "X_train, X_test, y_train, y_test = train_test_split(X,y,test_size=100)\n",
    "five_percent = int(y.size/20)\n",
    "ten_percent = int(y.size/10)\n",
    "\n",
    "models = [make_pipeline(StandardScaler(), SVC()),\n",
    "          make_pipeline(MaxAbsScaler(), LogisticRegression()),    \n",
    "         LogisticRegression(),\n",
    "         MultinomialNB(),\n",
    "         DecisionTreeClassifier(),\n",
    "         DecisionTreeClassifier(),\n",
    "         RandomForestClassifier(),\n",
    "         BaggingClassifier(DecisionTreeClassifier())\n",
    "         ]\n",
    "\n",
    "param_grids = [[{\"svc__kernel\":[\"linear\",\"rbf\"]},\n",
    "          {\"svc__kernel\":[\"poly\"], \n",
    "          \"svc__degree\":[2,3,4]}],\n",
    "            {\"logisticregression__C\":[0.001,0.01,0.1,1,10,100,1000]},\n",
    "            {\"C\":[0.001,0.01,0.1,1,10,100,1000]},\n",
    "            {},\n",
    "            {\"max_depth\":[2,5]},\n",
    "            {\"min_samples_leaf\":[five_percent,ten_percent]},\n",
    "            {\"n_estimators\":[100,300], \"min_samples_leaf\":[five_percent,ten_percent]},\n",
    "            {\"n_estimators\":[100,300], \"max_samples\":[0.3,0.5], \"max_features\":[0.3,0.5]}\n",
    "              ]\n",
    "\n",
    "for model, params in zip(models,param_grids):\n",
    "    gs = GridSearchCV(model, params, cv=10, n_jobs=-1)\n",
    "    gs.fit(X_train, y_train)\n",
    "\n",
    "    print(accuracy_score(y_test, gs.predict(X_test)), str(type(gs.estimator))[16:-2], gs.best_params_)"
   ]
  }
 ],
 "metadata": {
  "kernelspec": {
   "display_name": "Python 3",
   "language": "python",
   "name": "python3"
  },
  "language_info": {
   "codemirror_mode": {
    "name": "ipython",
    "version": 3
   },
   "file_extension": ".py",
   "mimetype": "text/x-python",
   "name": "python",
   "nbconvert_exporter": "python",
   "pygments_lexer": "ipython3",
   "version": "3.6.9"
  }
 },
 "nbformat": 4,
 "nbformat_minor": 2
}
